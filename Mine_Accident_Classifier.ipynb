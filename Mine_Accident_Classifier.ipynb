{
 "cells": [
  {
   "cell_type": "code",
   "execution_count": 1,
   "id": "a515b2dc",
   "metadata": {},
   "outputs": [],
   "source": [
    "import pandas as pd\n",
    "import numpy as np\n",
    "import matplotlib.pyplot as plt\n",
    "import seaborn as sbn\n",
    "%matplotlib inline"
   ]
  },
  {
   "cell_type": "code",
   "execution_count": 2,
   "id": "8935657c",
   "metadata": {},
   "outputs": [],
   "source": [
    "df1=pd.read_excel(r'AMC_health_and_safety_data.xlsx',sheet_name='Data')\n"
   ]
  },
  {
   "cell_type": "code",
   "execution_count": 3,
   "id": "78b421de",
   "metadata": {},
   "outputs": [
    {
     "data": {
      "text/html": [
       "<div>\n",
       "<style scoped>\n",
       "    .dataframe tbody tr th:only-of-type {\n",
       "        vertical-align: middle;\n",
       "    }\n",
       "\n",
       "    .dataframe tbody tr th {\n",
       "        vertical-align: top;\n",
       "    }\n",
       "\n",
       "    .dataframe thead th {\n",
       "        text-align: right;\n",
       "    }\n",
       "</style>\n",
       "<table border=\"1\" class=\"dataframe\">\n",
       "  <thead>\n",
       "    <tr style=\"text-align: right;\">\n",
       "      <th></th>\n",
       "      <th>DOCUMENT_NO</th>\n",
       "      <th>SUBUNIT_CD</th>\n",
       "      <th>SUBUNIT</th>\n",
       "      <th>ACCIDENT_DT</th>\n",
       "      <th>CAL_YR</th>\n",
       "      <th>CAL_QTR</th>\n",
       "      <th>FISCAL_YR</th>\n",
       "      <th>FISCAL_QTR</th>\n",
       "      <th>ACCIDENT_TIME</th>\n",
       "      <th>DEGREE_INJURY_CD</th>\n",
       "      <th>...</th>\n",
       "      <th>DAYS_LOST</th>\n",
       "      <th>TRANS_TERM</th>\n",
       "      <th>RETURN_TO_WORK_DT</th>\n",
       "      <th>IMMED_NOTIFY_CD</th>\n",
       "      <th>IMMED_NOTIFY</th>\n",
       "      <th>INVEST_BEGIN_DT</th>\n",
       "      <th>NARRATIVE</th>\n",
       "      <th>CLOSED_DOC_NO</th>\n",
       "      <th>COAL_METAL_IND</th>\n",
       "      <th>CLASSIFICATION</th>\n",
       "    </tr>\n",
       "  </thead>\n",
       "  <tbody>\n",
       "    <tr>\n",
       "      <th>0</th>\n",
       "      <td>220143000000</td>\n",
       "      <td>30</td>\n",
       "      <td>MILL OPERATION/PREPARATION PLANT</td>\n",
       "      <td>9/8/2014</td>\n",
       "      <td>2014</td>\n",
       "      <td>3</td>\n",
       "      <td>2014</td>\n",
       "      <td>4</td>\n",
       "      <td>1330</td>\n",
       "      <td>6</td>\n",
       "      <td>...</td>\n",
       "      <td>0.0</td>\n",
       "      <td>N</td>\n",
       "      <td>9/9/2014</td>\n",
       "      <td>?</td>\n",
       "      <td>NO VALUE FOUND</td>\n",
       "      <td>NaN</td>\n",
       "      <td>ee was moving a caustic line when the line fel...</td>\n",
       "      <td>NaN</td>\n",
       "      <td>C</td>\n",
       "      <td>HANDLING OF MATERIALS</td>\n",
       "    </tr>\n",
       "    <tr>\n",
       "      <th>1</th>\n",
       "      <td>220163000000</td>\n",
       "      <td>1</td>\n",
       "      <td>UNDERGROUND</td>\n",
       "      <td>10/26/2016</td>\n",
       "      <td>2016</td>\n",
       "      <td>4</td>\n",
       "      <td>2017</td>\n",
       "      <td>1</td>\n",
       "      <td>1400</td>\n",
       "      <td>3</td>\n",
       "      <td>...</td>\n",
       "      <td>11.0</td>\n",
       "      <td>N</td>\n",
       "      <td>11/9/2016</td>\n",
       "      <td>?</td>\n",
       "      <td>NO VALUE FOUND</td>\n",
       "      <td>NaN</td>\n",
       "      <td>employee was building and plastering a brattic...</td>\n",
       "      <td>3.201630e+11</td>\n",
       "      <td>C</td>\n",
       "      <td>HANDLING OF MATERIALS</td>\n",
       "    </tr>\n",
       "    <tr>\n",
       "      <th>2</th>\n",
       "      <td>220053000000</td>\n",
       "      <td>3</td>\n",
       "      <td>STRIP, QUARY, OPEN PIT</td>\n",
       "      <td>10/4/2005</td>\n",
       "      <td>2005</td>\n",
       "      <td>4</td>\n",
       "      <td>2006</td>\n",
       "      <td>1</td>\n",
       "      <td>1325</td>\n",
       "      <td>3</td>\n",
       "      <td>...</td>\n",
       "      <td>1.0</td>\n",
       "      <td>N</td>\n",
       "      <td>10/6/2005</td>\n",
       "      <td>?</td>\n",
       "      <td>NO VALUE FOUND</td>\n",
       "      <td>NaN</td>\n",
       "      <td>he was lifting a piece of steel. he place a ch...</td>\n",
       "      <td>NaN</td>\n",
       "      <td>C</td>\n",
       "      <td>HANDLING OF MATERIALS</td>\n",
       "    </tr>\n",
       "    <tr>\n",
       "      <th>3</th>\n",
       "      <td>220063000000</td>\n",
       "      <td>30</td>\n",
       "      <td>MILL OPERATION/PREPARATION PLANT</td>\n",
       "      <td>10/17/2006</td>\n",
       "      <td>2006</td>\n",
       "      <td>4</td>\n",
       "      <td>2007</td>\n",
       "      <td>1</td>\n",
       "      <td>1140</td>\n",
       "      <td>3</td>\n",
       "      <td>...</td>\n",
       "      <td>0.0</td>\n",
       "      <td>NaN</td>\n",
       "      <td>NaN</td>\n",
       "      <td>?</td>\n",
       "      <td>NO VALUE FOUND</td>\n",
       "      <td>NaN</td>\n",
       "      <td>the technician was greasing on the sample syst...</td>\n",
       "      <td>NaN</td>\n",
       "      <td>C</td>\n",
       "      <td>HANDLING OF MATERIALS</td>\n",
       "    </tr>\n",
       "    <tr>\n",
       "      <th>4</th>\n",
       "      <td>220151000000</td>\n",
       "      <td>1</td>\n",
       "      <td>UNDERGROUND</td>\n",
       "      <td>2/11/2015</td>\n",
       "      <td>2015</td>\n",
       "      <td>1</td>\n",
       "      <td>2015</td>\n",
       "      <td>2</td>\n",
       "      <td>1430</td>\n",
       "      <td>3</td>\n",
       "      <td>...</td>\n",
       "      <td>9.0</td>\n",
       "      <td>Y</td>\n",
       "      <td>2/27/2015</td>\n",
       "      <td>?</td>\n",
       "      <td>NO VALUE FOUND</td>\n",
       "      <td>NaN</td>\n",
       "      <td>as employee was lifting top frame of 84\" struc...</td>\n",
       "      <td>3.201510e+11</td>\n",
       "      <td>C</td>\n",
       "      <td>HANDLING OF MATERIALS</td>\n",
       "    </tr>\n",
       "  </tbody>\n",
       "</table>\n",
       "<p>5 rows × 49 columns</p>\n",
       "</div>"
      ],
      "text/plain": [
       "    DOCUMENT_NO  SUBUNIT_CD                           SUBUNIT ACCIDENT_DT  \\\n",
       "0  220143000000          30  MILL OPERATION/PREPARATION PLANT    9/8/2014   \n",
       "1  220163000000           1                       UNDERGROUND  10/26/2016   \n",
       "2  220053000000           3            STRIP, QUARY, OPEN PIT   10/4/2005   \n",
       "3  220063000000          30  MILL OPERATION/PREPARATION PLANT  10/17/2006   \n",
       "4  220151000000           1                       UNDERGROUND   2/11/2015   \n",
       "\n",
       "   CAL_YR  CAL_QTR  FISCAL_YR  FISCAL_QTR  ACCIDENT_TIME DEGREE_INJURY_CD  \\\n",
       "0    2014        3       2014           4           1330                6   \n",
       "1    2016        4       2017           1           1400                3   \n",
       "2    2005        4       2006           1           1325                3   \n",
       "3    2006        4       2007           1           1140                3   \n",
       "4    2015        1       2015           2           1430                3   \n",
       "\n",
       "   ... DAYS_LOST  TRANS_TERM RETURN_TO_WORK_DT IMMED_NOTIFY_CD  \\\n",
       "0  ...       0.0           N          9/9/2014              ?    \n",
       "1  ...      11.0           N         11/9/2016              ?    \n",
       "2  ...       1.0           N         10/6/2005              ?    \n",
       "3  ...       0.0         NaN               NaN              ?    \n",
       "4  ...       9.0           Y         2/27/2015              ?    \n",
       "\n",
       "     IMMED_NOTIFY INVEST_BEGIN_DT  \\\n",
       "0  NO VALUE FOUND             NaN   \n",
       "1  NO VALUE FOUND             NaN   \n",
       "2  NO VALUE FOUND             NaN   \n",
       "3  NO VALUE FOUND             NaN   \n",
       "4  NO VALUE FOUND             NaN   \n",
       "\n",
       "                                           NARRATIVE CLOSED_DOC_NO  \\\n",
       "0  ee was moving a caustic line when the line fel...           NaN   \n",
       "1  employee was building and plastering a brattic...  3.201630e+11   \n",
       "2  he was lifting a piece of steel. he place a ch...           NaN   \n",
       "3  the technician was greasing on the sample syst...           NaN   \n",
       "4  as employee was lifting top frame of 84\" struc...  3.201510e+11   \n",
       "\n",
       "  COAL_METAL_IND         CLASSIFICATION  \n",
       "0              C  HANDLING OF MATERIALS  \n",
       "1              C  HANDLING OF MATERIALS  \n",
       "2              C  HANDLING OF MATERIALS  \n",
       "3              C  HANDLING OF MATERIALS  \n",
       "4              C  HANDLING OF MATERIALS  \n",
       "\n",
       "[5 rows x 49 columns]"
      ]
     },
     "execution_count": 3,
     "metadata": {},
     "output_type": "execute_result"
    }
   ],
   "source": [
    "df1.head(5)"
   ]
  },
  {
   "cell_type": "code",
   "execution_count": 4,
   "id": "322edeb6",
   "metadata": {},
   "outputs": [
    {
     "name": "stdout",
     "output_type": "stream",
     "text": [
      "<class 'pandas.core.frame.DataFrame'>\n",
      "RangeIndex: 36016 entries, 0 to 36015\n",
      "Data columns (total 49 columns):\n",
      " #   Column               Non-Null Count  Dtype  \n",
      "---  ------               --------------  -----  \n",
      " 0   DOCUMENT_NO          36016 non-null  int64  \n",
      " 1   SUBUNIT_CD           36016 non-null  int64  \n",
      " 2   SUBUNIT              36016 non-null  object \n",
      " 3   ACCIDENT_DT          36016 non-null  object \n",
      " 4   CAL_YR               36016 non-null  int64  \n",
      " 5   CAL_QTR              36016 non-null  int64  \n",
      " 6   FISCAL_YR            36016 non-null  int64  \n",
      " 7   FISCAL_QTR           36016 non-null  int64  \n",
      " 8   ACCIDENT_TIME        36016 non-null  int64  \n",
      " 9   DEGREE_INJURY_CD     36016 non-null  object \n",
      " 10  DEGREE_INJURY        36016 non-null  object \n",
      " 11  FIPS_STATE_CD        36016 non-null  int64  \n",
      " 12  UG_LOCATION_CD       36016 non-null  object \n",
      " 13  UG_LOCATION          36016 non-null  object \n",
      " 14  UG_MINING_METHOD_CD  36016 non-null  object \n",
      " 15  UG_MINING_METHOD     36016 non-null  object \n",
      " 16  MINING_EQUIP_CD      36016 non-null  object \n",
      " 17  MINING_EQUIP         36016 non-null  object \n",
      " 18  EQUIP_MFR_CD         36016 non-null  object \n",
      " 19  EQUIP_MFR_NAME       36016 non-null  object \n",
      " 20  EQUIP_MODEL_NO       15935 non-null  object \n",
      " 21  SHIFT_BEGIN_TIME     35984 non-null  float64\n",
      " 22  ACCIDENT_TYPE        36016 non-null  object \n",
      " 23  NO_INJURIES          36016 non-null  int64  \n",
      " 24  TOT_EXPER            33287 non-null  float64\n",
      " 25  MINE_EXPER           33703 non-null  float64\n",
      " 26  JOB_EXPER            33817 non-null  float64\n",
      " 27  OCCUPATION_CD        36016 non-null  object \n",
      " 28  OCCUPATION           36016 non-null  object \n",
      " 29  ACTIVITY_CD          36016 non-null  object \n",
      " 30  ACTIVITY             36016 non-null  object \n",
      " 31  INJURY_SOURCE_CD     36016 non-null  object \n",
      " 32  INJURY_SOURCE        36016 non-null  object \n",
      " 33  NATURE_INJURY_CD     36016 non-null  object \n",
      " 34  NATURE_INJURY        36016 non-null  object \n",
      " 35  INJ_BODY_PART_CD     36016 non-null  object \n",
      " 36  INJ_BODY_PART        36016 non-null  object \n",
      " 37  SCHEDULE_CHARGE      26012 non-null  float64\n",
      " 38  DAYS_RESTRICT        26038 non-null  float64\n",
      " 39  DAYS_LOST            31796 non-null  float64\n",
      " 40  TRANS_TERM           34175 non-null  object \n",
      " 41  RETURN_TO_WORK_DT    33036 non-null  object \n",
      " 42  IMMED_NOTIFY_CD      36016 non-null  object \n",
      " 43  IMMED_NOTIFY         36016 non-null  object \n",
      " 44  INVEST_BEGIN_DT      5548 non-null   object \n",
      " 45  NARRATIVE            36016 non-null  object \n",
      " 46  CLOSED_DOC_NO        17886 non-null  float64\n",
      " 47  COAL_METAL_IND       36016 non-null  object \n",
      " 48  CLASSIFICATION       36016 non-null  object \n",
      "dtypes: float64(8), int64(9), object(32)\n",
      "memory usage: 13.5+ MB\n"
     ]
    }
   ],
   "source": [
    "df1.info()"
   ]
  },
  {
   "cell_type": "code",
   "execution_count": 5,
   "id": "089412c6",
   "metadata": {},
   "outputs": [
    {
     "data": {
      "text/plain": [
       "(36016, 49)"
      ]
     },
     "execution_count": 5,
     "metadata": {},
     "output_type": "execute_result"
    }
   ],
   "source": [
    "df1.shape"
   ]
  },
  {
   "cell_type": "markdown",
   "id": "ea7da02f",
   "metadata": {},
   "source": [
    "There are around 49 Features involved in the DataFrame above"
   ]
  },
  {
   "cell_type": "code",
   "execution_count": 6,
   "id": "89b63889",
   "metadata": {},
   "outputs": [
    {
     "data": {
      "text/plain": [
       "Index(['DOCUMENT_NO', 'SUBUNIT_CD', 'SUBUNIT', 'ACCIDENT_DT', 'CAL_YR',\n",
       "       'CAL_QTR', 'FISCAL_YR', 'FISCAL_QTR', 'ACCIDENT_TIME',\n",
       "       'DEGREE_INJURY_CD', 'DEGREE_INJURY', 'FIPS_STATE_CD', 'UG_LOCATION_CD',\n",
       "       'UG_LOCATION', 'UG_MINING_METHOD_CD', 'UG_MINING_METHOD',\n",
       "       'MINING_EQUIP_CD', 'MINING_EQUIP', 'EQUIP_MFR_CD', 'EQUIP_MFR_NAME',\n",
       "       'EQUIP_MODEL_NO', 'SHIFT_BEGIN_TIME', 'ACCIDENT_TYPE', 'NO_INJURIES',\n",
       "       'TOT_EXPER', 'MINE_EXPER', 'JOB_EXPER', 'OCCUPATION_CD', 'OCCUPATION',\n",
       "       'ACTIVITY_CD', 'ACTIVITY', 'INJURY_SOURCE_CD', 'INJURY_SOURCE',\n",
       "       'NATURE_INJURY_CD', 'NATURE_INJURY', 'INJ_BODY_PART_CD',\n",
       "       'INJ_BODY_PART', 'SCHEDULE_CHARGE', 'DAYS_RESTRICT', 'DAYS_LOST',\n",
       "       'TRANS_TERM', 'RETURN_TO_WORK_DT', 'IMMED_NOTIFY_CD', 'IMMED_NOTIFY',\n",
       "       'INVEST_BEGIN_DT', 'NARRATIVE', 'CLOSED_DOC_NO', 'COAL_METAL_IND',\n",
       "       'CLASSIFICATION'],\n",
       "      dtype='object')"
      ]
     },
     "execution_count": 6,
     "metadata": {},
     "output_type": "execute_result"
    }
   ],
   "source": [
    "col_list=df1.columns\n",
    "col_list"
   ]
  },
  {
   "cell_type": "code",
   "execution_count": 7,
   "id": "0823892e",
   "metadata": {},
   "outputs": [
    {
     "data": {
      "text/plain": [
       "array([30,  1,  3,  2, 99,  5,  4, 17,  6], dtype=int64)"
      ]
     },
     "execution_count": 7,
     "metadata": {},
     "output_type": "execute_result"
    }
   ],
   "source": [
    "df1['SUBUNIT_CD'].unique()"
   ]
  },
  {
   "cell_type": "code",
   "execution_count": 8,
   "id": "7bec22c1",
   "metadata": {},
   "outputs": [
    {
     "data": {
      "text/plain": [
       "array(['MILL OPERATION/PREPARATION PLANT', 'UNDERGROUND',\n",
       "       'STRIP, QUARY, OPEN PIT', 'SURFACE AT UNDERGROUND',\n",
       "       'OFFICE WORKERS AT MINE SITE', 'CULM BANK/REFUSE PILE', 'AUGER',\n",
       "       'INDEPENDENT SHOPS OR YARDS', 'DREDGE'], dtype=object)"
      ]
     },
     "execution_count": 8,
     "metadata": {},
     "output_type": "execute_result"
    }
   ],
   "source": [
    "df1['SUBUNIT'].unique()"
   ]
  },
  {
   "cell_type": "code",
   "execution_count": 9,
   "id": "9e6e6fee",
   "metadata": {},
   "outputs": [
    {
     "data": {
      "text/plain": [
       "array(['HANDLING OF MATERIALS', 'SLIP OR FALL OF PERSON', 'HAULAGE',\n",
       "       'FIRE/EXPLOSION', 'EXPLOSIVES AND BREAKING AGENTS', 'ELECTRICAL',\n",
       "       'EXPLODING VESSELS UNDER PRESSURE', 'TOXIC', 'ENTRAPMENT',\n",
       "       'INUNDATION', 'OTHER'], dtype=object)"
      ]
     },
     "execution_count": 9,
     "metadata": {},
     "output_type": "execute_result"
    }
   ],
   "source": [
    "df1['CLASSIFICATION'].unique()"
   ]
  },
  {
   "cell_type": "code",
   "execution_count": 10,
   "id": "d3a37304",
   "metadata": {},
   "outputs": [
    {
     "data": {
      "text/plain": [
       "array(['6', '3', '5', '4', '2', '10', '9', '?', '8', '1', '0', '7'],\n",
       "      dtype=object)"
      ]
     },
     "execution_count": 10,
     "metadata": {},
     "output_type": "execute_result"
    }
   ],
   "source": [
    "df1['DEGREE_INJURY_CD'].unique()"
   ]
  },
  {
   "cell_type": "code",
   "execution_count": 11,
   "id": "99f20e85",
   "metadata": {},
   "outputs": [
    {
     "data": {
      "text/plain": [
       "DOCUMENT_NO                0\n",
       "SUBUNIT_CD                 0\n",
       "SUBUNIT                    0\n",
       "ACCIDENT_DT                0\n",
       "CAL_YR                     0\n",
       "CAL_QTR                    0\n",
       "FISCAL_YR                  0\n",
       "FISCAL_QTR                 0\n",
       "ACCIDENT_TIME              0\n",
       "DEGREE_INJURY_CD           0\n",
       "DEGREE_INJURY              0\n",
       "FIPS_STATE_CD              0\n",
       "UG_LOCATION_CD             0\n",
       "UG_LOCATION                0\n",
       "UG_MINING_METHOD_CD        0\n",
       "UG_MINING_METHOD           0\n",
       "MINING_EQUIP_CD            0\n",
       "MINING_EQUIP               0\n",
       "EQUIP_MFR_CD               0\n",
       "EQUIP_MFR_NAME             0\n",
       "EQUIP_MODEL_NO         20081\n",
       "SHIFT_BEGIN_TIME          32\n",
       "ACCIDENT_TYPE              0\n",
       "NO_INJURIES                0\n",
       "TOT_EXPER               2729\n",
       "MINE_EXPER              2313\n",
       "JOB_EXPER               2199\n",
       "OCCUPATION_CD              0\n",
       "OCCUPATION                 0\n",
       "ACTIVITY_CD                0\n",
       "ACTIVITY                   0\n",
       "INJURY_SOURCE_CD           0\n",
       "INJURY_SOURCE              0\n",
       "NATURE_INJURY_CD           0\n",
       "NATURE_INJURY              0\n",
       "INJ_BODY_PART_CD           0\n",
       "INJ_BODY_PART              0\n",
       "SCHEDULE_CHARGE        10004\n",
       "DAYS_RESTRICT           9978\n",
       "DAYS_LOST               4220\n",
       "TRANS_TERM              1841\n",
       "RETURN_TO_WORK_DT       2980\n",
       "IMMED_NOTIFY_CD            0\n",
       "IMMED_NOTIFY               0\n",
       "INVEST_BEGIN_DT        30468\n",
       "NARRATIVE                  0\n",
       "CLOSED_DOC_NO          18130\n",
       "COAL_METAL_IND             0\n",
       "CLASSIFICATION             0\n",
       "dtype: int64"
      ]
     },
     "execution_count": 11,
     "metadata": {},
     "output_type": "execute_result"
    }
   ],
   "source": [
    "df1.isnull().sum()"
   ]
  },
  {
   "cell_type": "markdown",
   "id": "62116865",
   "metadata": {},
   "source": [
    "Let us drop the columns which have a lot of missing values and also the columns which are not needed as\n",
    "they are already shown via a particyular code.\n",
    "These columns/features are:\n",
    "    Document no.\n",
    "    sub_unit\n",
    "    Fiscal Qtr\n",
    "    Fiscal year\n",
    "    degree_injury\n",
    "    UG_location\n",
    "    Mining Equipment\n",
    "    Equipment_mfr_cd\n",
    "    Schedule_charge\n",
    "    days_restrict\n",
    "    immed_notify\n",
    "    Invest_begin_date\n",
    "    Narrative\n",
    "    closed_id\n",
    "    \n"
   ]
  },
  {
   "cell_type": "code",
   "execution_count": 12,
   "id": "7cb137f0",
   "metadata": {},
   "outputs": [],
   "source": [
    "new_df1=df1.drop(['DOCUMENT_NO','SUBUNIT','FISCAL_YR','FISCAL_QTR','DEGREE_INJURY','UG_LOCATION','UG_MINING_METHOD','MINING_EQUIP','EQUIP_MFR_NAME','EQUIP_MODEL_NO','SHIFT_BEGIN_TIME','OCCUPATION','ACTIVITY','INJURY_SOURCE','NATURE_INJURY','INJ_BODY_PART', 'SCHEDULE_CHARGE','DAYS_LOST','TRANS_TERM', 'IMMED_NOTIFY','INVEST_BEGIN_DT', 'NARRATIVE', 'CLOSED_DOC_NO'],axis=1)"
   ]
  },
  {
   "cell_type": "code",
   "execution_count": 13,
   "id": "9adba1a0",
   "metadata": {},
   "outputs": [
    {
     "data": {
      "text/html": [
       "<div>\n",
       "<style scoped>\n",
       "    .dataframe tbody tr th:only-of-type {\n",
       "        vertical-align: middle;\n",
       "    }\n",
       "\n",
       "    .dataframe tbody tr th {\n",
       "        vertical-align: top;\n",
       "    }\n",
       "\n",
       "    .dataframe thead th {\n",
       "        text-align: right;\n",
       "    }\n",
       "</style>\n",
       "<table border=\"1\" class=\"dataframe\">\n",
       "  <thead>\n",
       "    <tr style=\"text-align: right;\">\n",
       "      <th></th>\n",
       "      <th>SUBUNIT_CD</th>\n",
       "      <th>ACCIDENT_DT</th>\n",
       "      <th>CAL_YR</th>\n",
       "      <th>CAL_QTR</th>\n",
       "      <th>ACCIDENT_TIME</th>\n",
       "      <th>DEGREE_INJURY_CD</th>\n",
       "      <th>FIPS_STATE_CD</th>\n",
       "      <th>UG_LOCATION_CD</th>\n",
       "      <th>UG_MINING_METHOD_CD</th>\n",
       "      <th>MINING_EQUIP_CD</th>\n",
       "      <th>...</th>\n",
       "      <th>OCCUPATION_CD</th>\n",
       "      <th>ACTIVITY_CD</th>\n",
       "      <th>INJURY_SOURCE_CD</th>\n",
       "      <th>NATURE_INJURY_CD</th>\n",
       "      <th>INJ_BODY_PART_CD</th>\n",
       "      <th>DAYS_RESTRICT</th>\n",
       "      <th>RETURN_TO_WORK_DT</th>\n",
       "      <th>IMMED_NOTIFY_CD</th>\n",
       "      <th>COAL_METAL_IND</th>\n",
       "      <th>CLASSIFICATION</th>\n",
       "    </tr>\n",
       "  </thead>\n",
       "  <tbody>\n",
       "    <tr>\n",
       "      <th>0</th>\n",
       "      <td>30</td>\n",
       "      <td>9/8/2014</td>\n",
       "      <td>2014</td>\n",
       "      <td>3</td>\n",
       "      <td>1330</td>\n",
       "      <td>6</td>\n",
       "      <td>1</td>\n",
       "      <td>?</td>\n",
       "      <td>?</td>\n",
       "      <td>?</td>\n",
       "      <td>...</td>\n",
       "      <td>304</td>\n",
       "      <td>28</td>\n",
       "      <td>24</td>\n",
       "      <td>130</td>\n",
       "      <td>130</td>\n",
       "      <td>0.0</td>\n",
       "      <td>9/9/2014</td>\n",
       "      <td>?</td>\n",
       "      <td>C</td>\n",
       "      <td>HANDLING OF MATERIALS</td>\n",
       "    </tr>\n",
       "    <tr>\n",
       "      <th>1</th>\n",
       "      <td>1</td>\n",
       "      <td>10/26/2016</td>\n",
       "      <td>2016</td>\n",
       "      <td>4</td>\n",
       "      <td>1400</td>\n",
       "      <td>3</td>\n",
       "      <td>1</td>\n",
       "      <td>1</td>\n",
       "      <td>5</td>\n",
       "      <td>?</td>\n",
       "      <td>...</td>\n",
       "      <td>46</td>\n",
       "      <td>82</td>\n",
       "      <td>21</td>\n",
       "      <td>130</td>\n",
       "      <td>130</td>\n",
       "      <td>0.0</td>\n",
       "      <td>11/9/2016</td>\n",
       "      <td>?</td>\n",
       "      <td>C</td>\n",
       "      <td>HANDLING OF MATERIALS</td>\n",
       "    </tr>\n",
       "    <tr>\n",
       "      <th>2</th>\n",
       "      <td>3</td>\n",
       "      <td>10/4/2005</td>\n",
       "      <td>2005</td>\n",
       "      <td>4</td>\n",
       "      <td>1325</td>\n",
       "      <td>3</td>\n",
       "      <td>1</td>\n",
       "      <td>?</td>\n",
       "      <td>?</td>\n",
       "      <td>?</td>\n",
       "      <td>...</td>\n",
       "      <td>418</td>\n",
       "      <td>28</td>\n",
       "      <td>88</td>\n",
       "      <td>400</td>\n",
       "      <td>340</td>\n",
       "      <td>0.0</td>\n",
       "      <td>10/6/2005</td>\n",
       "      <td>?</td>\n",
       "      <td>C</td>\n",
       "      <td>HANDLING OF MATERIALS</td>\n",
       "    </tr>\n",
       "    <tr>\n",
       "      <th>3</th>\n",
       "      <td>30</td>\n",
       "      <td>10/17/2006</td>\n",
       "      <td>2006</td>\n",
       "      <td>4</td>\n",
       "      <td>1140</td>\n",
       "      <td>3</td>\n",
       "      <td>4</td>\n",
       "      <td>?</td>\n",
       "      <td>?</td>\n",
       "      <td>16</td>\n",
       "      <td>...</td>\n",
       "      <td>414</td>\n",
       "      <td>39</td>\n",
       "      <td>88</td>\n",
       "      <td>180</td>\n",
       "      <td>330</td>\n",
       "      <td>0.0</td>\n",
       "      <td>NaN</td>\n",
       "      <td>?</td>\n",
       "      <td>C</td>\n",
       "      <td>HANDLING OF MATERIALS</td>\n",
       "    </tr>\n",
       "    <tr>\n",
       "      <th>4</th>\n",
       "      <td>1</td>\n",
       "      <td>2/11/2015</td>\n",
       "      <td>2015</td>\n",
       "      <td>1</td>\n",
       "      <td>1430</td>\n",
       "      <td>3</td>\n",
       "      <td>8</td>\n",
       "      <td>6</td>\n",
       "      <td>1</td>\n",
       "      <td>?</td>\n",
       "      <td>...</td>\n",
       "      <td>116</td>\n",
       "      <td>28</td>\n",
       "      <td>88</td>\n",
       "      <td>330</td>\n",
       "      <td>440</td>\n",
       "      <td>0.0</td>\n",
       "      <td>2/27/2015</td>\n",
       "      <td>?</td>\n",
       "      <td>C</td>\n",
       "      <td>HANDLING OF MATERIALS</td>\n",
       "    </tr>\n",
       "    <tr>\n",
       "      <th>...</th>\n",
       "      <td>...</td>\n",
       "      <td>...</td>\n",
       "      <td>...</td>\n",
       "      <td>...</td>\n",
       "      <td>...</td>\n",
       "      <td>...</td>\n",
       "      <td>...</td>\n",
       "      <td>...</td>\n",
       "      <td>...</td>\n",
       "      <td>...</td>\n",
       "      <td>...</td>\n",
       "      <td>...</td>\n",
       "      <td>...</td>\n",
       "      <td>...</td>\n",
       "      <td>...</td>\n",
       "      <td>...</td>\n",
       "      <td>...</td>\n",
       "      <td>...</td>\n",
       "      <td>...</td>\n",
       "      <td>...</td>\n",
       "      <td>...</td>\n",
       "    </tr>\n",
       "    <tr>\n",
       "      <th>36011</th>\n",
       "      <td>1</td>\n",
       "      <td>11/7/2008</td>\n",
       "      <td>2008</td>\n",
       "      <td>4</td>\n",
       "      <td>2054</td>\n",
       "      <td>8</td>\n",
       "      <td>51</td>\n",
       "      <td>2</td>\n",
       "      <td>5</td>\n",
       "      <td>?</td>\n",
       "      <td>...</td>\n",
       "      <td>418</td>\n",
       "      <td>34</td>\n",
       "      <td>127</td>\n",
       "      <td>340</td>\n",
       "      <td>600</td>\n",
       "      <td>0.0</td>\n",
       "      <td>NaN</td>\n",
       "      <td>?</td>\n",
       "      <td>C</td>\n",
       "      <td>OTHER</td>\n",
       "    </tr>\n",
       "    <tr>\n",
       "      <th>36012</th>\n",
       "      <td>3</td>\n",
       "      <td>1/3/2006</td>\n",
       "      <td>2006</td>\n",
       "      <td>1</td>\n",
       "      <td>2200</td>\n",
       "      <td>6</td>\n",
       "      <td>51</td>\n",
       "      <td>?</td>\n",
       "      <td>?</td>\n",
       "      <td>?</td>\n",
       "      <td>...</td>\n",
       "      <td>304</td>\n",
       "      <td>39</td>\n",
       "      <td>92</td>\n",
       "      <td>320</td>\n",
       "      <td>130</td>\n",
       "      <td>0.0</td>\n",
       "      <td>1/3/2006</td>\n",
       "      <td>?</td>\n",
       "      <td>C</td>\n",
       "      <td>OTHER</td>\n",
       "    </tr>\n",
       "    <tr>\n",
       "      <th>36013</th>\n",
       "      <td>2</td>\n",
       "      <td>10/18/2004</td>\n",
       "      <td>2004</td>\n",
       "      <td>4</td>\n",
       "      <td>730</td>\n",
       "      <td>8</td>\n",
       "      <td>54</td>\n",
       "      <td>?</td>\n",
       "      <td>?</td>\n",
       "      <td>?</td>\n",
       "      <td>...</td>\n",
       "      <td>36</td>\n",
       "      <td>9</td>\n",
       "      <td>127</td>\n",
       "      <td>340</td>\n",
       "      <td>600</td>\n",
       "      <td>0.0</td>\n",
       "      <td>NaN</td>\n",
       "      <td>?</td>\n",
       "      <td>C</td>\n",
       "      <td>OTHER</td>\n",
       "    </tr>\n",
       "    <tr>\n",
       "      <th>36014</th>\n",
       "      <td>1</td>\n",
       "      <td>5/2/2018</td>\n",
       "      <td>2018</td>\n",
       "      <td>2</td>\n",
       "      <td>1830</td>\n",
       "      <td>3</td>\n",
       "      <td>54</td>\n",
       "      <td>3</td>\n",
       "      <td>1</td>\n",
       "      <td>?</td>\n",
       "      <td>...</td>\n",
       "      <td>16</td>\n",
       "      <td>28</td>\n",
       "      <td>1</td>\n",
       "      <td>280</td>\n",
       "      <td>600</td>\n",
       "      <td>0.0</td>\n",
       "      <td>6/11/2018</td>\n",
       "      <td>?</td>\n",
       "      <td>C</td>\n",
       "      <td>OTHER</td>\n",
       "    </tr>\n",
       "    <tr>\n",
       "      <th>36015</th>\n",
       "      <td>30</td>\n",
       "      <td>8/2/2014</td>\n",
       "      <td>2014</td>\n",
       "      <td>3</td>\n",
       "      <td>9999</td>\n",
       "      <td>8</td>\n",
       "      <td>54</td>\n",
       "      <td>?</td>\n",
       "      <td>?</td>\n",
       "      <td>?</td>\n",
       "      <td>...</td>\n",
       "      <td>306</td>\n",
       "      <td>99</td>\n",
       "      <td>127</td>\n",
       "      <td>340</td>\n",
       "      <td>600</td>\n",
       "      <td>0.0</td>\n",
       "      <td>NaN</td>\n",
       "      <td>?</td>\n",
       "      <td>C</td>\n",
       "      <td>OTHER</td>\n",
       "    </tr>\n",
       "  </tbody>\n",
       "</table>\n",
       "<p>36016 rows × 26 columns</p>\n",
       "</div>"
      ],
      "text/plain": [
       "       SUBUNIT_CD ACCIDENT_DT  CAL_YR  CAL_QTR  ACCIDENT_TIME  \\\n",
       "0              30    9/8/2014    2014        3           1330   \n",
       "1               1  10/26/2016    2016        4           1400   \n",
       "2               3   10/4/2005    2005        4           1325   \n",
       "3              30  10/17/2006    2006        4           1140   \n",
       "4               1   2/11/2015    2015        1           1430   \n",
       "...           ...         ...     ...      ...            ...   \n",
       "36011           1   11/7/2008    2008        4           2054   \n",
       "36012           3    1/3/2006    2006        1           2200   \n",
       "36013           2  10/18/2004    2004        4            730   \n",
       "36014           1    5/2/2018    2018        2           1830   \n",
       "36015          30    8/2/2014    2014        3           9999   \n",
       "\n",
       "      DEGREE_INJURY_CD  FIPS_STATE_CD UG_LOCATION_CD UG_MINING_METHOD_CD  \\\n",
       "0                    6              1              ?                   ?   \n",
       "1                    3              1              1                   5   \n",
       "2                    3              1              ?                   ?   \n",
       "3                    3              4              ?                   ?   \n",
       "4                    3              8              6                   1   \n",
       "...                ...            ...            ...                 ...   \n",
       "36011                8             51              2                   5   \n",
       "36012                6             51              ?                   ?   \n",
       "36013                8             54              ?                   ?   \n",
       "36014                3             54              3                   1   \n",
       "36015                8             54              ?                   ?   \n",
       "\n",
       "      MINING_EQUIP_CD  ... OCCUPATION_CD ACTIVITY_CD  INJURY_SOURCE_CD  \\\n",
       "0                   ?  ...           304          28                24   \n",
       "1                   ?  ...            46          82                21   \n",
       "2                   ?  ...           418          28                88   \n",
       "3                  16  ...           414          39                88   \n",
       "4                   ?  ...           116          28                88   \n",
       "...               ...  ...           ...         ...               ...   \n",
       "36011               ?  ...           418          34               127   \n",
       "36012               ?  ...           304          39                92   \n",
       "36013               ?  ...            36           9               127   \n",
       "36014               ?  ...            16          28                 1   \n",
       "36015               ?  ...           306          99               127   \n",
       "\n",
       "       NATURE_INJURY_CD  INJ_BODY_PART_CD  DAYS_RESTRICT RETURN_TO_WORK_DT  \\\n",
       "0                   130               130            0.0          9/9/2014   \n",
       "1                   130               130            0.0         11/9/2016   \n",
       "2                   400               340            0.0         10/6/2005   \n",
       "3                   180               330            0.0               NaN   \n",
       "4                   330               440            0.0         2/27/2015   \n",
       "...                 ...               ...            ...               ...   \n",
       "36011               340               600            0.0               NaN   \n",
       "36012               320               130            0.0          1/3/2006   \n",
       "36013               340               600            0.0               NaN   \n",
       "36014               280               600            0.0         6/11/2018   \n",
       "36015               340               600            0.0               NaN   \n",
       "\n",
       "      IMMED_NOTIFY_CD COAL_METAL_IND         CLASSIFICATION  \n",
       "0                  ?               C  HANDLING OF MATERIALS  \n",
       "1                  ?               C  HANDLING OF MATERIALS  \n",
       "2                  ?               C  HANDLING OF MATERIALS  \n",
       "3                  ?               C  HANDLING OF MATERIALS  \n",
       "4                  ?               C  HANDLING OF MATERIALS  \n",
       "...               ...            ...                    ...  \n",
       "36011              ?               C                  OTHER  \n",
       "36012              ?               C                  OTHER  \n",
       "36013              ?               C                  OTHER  \n",
       "36014              ?               C                  OTHER  \n",
       "36015              ?               C                  OTHER  \n",
       "\n",
       "[36016 rows x 26 columns]"
      ]
     },
     "execution_count": 13,
     "metadata": {},
     "output_type": "execute_result"
    }
   ],
   "source": [
    "new_df1"
   ]
  },
  {
   "cell_type": "code",
   "execution_count": 14,
   "id": "72701258",
   "metadata": {},
   "outputs": [
    {
     "data": {
      "text/plain": [
       "Index(['SUBUNIT_CD', 'ACCIDENT_DT', 'CAL_YR', 'CAL_QTR', 'ACCIDENT_TIME',\n",
       "       'DEGREE_INJURY_CD', 'FIPS_STATE_CD', 'UG_LOCATION_CD',\n",
       "       'UG_MINING_METHOD_CD', 'MINING_EQUIP_CD', 'EQUIP_MFR_CD',\n",
       "       'ACCIDENT_TYPE', 'NO_INJURIES', 'TOT_EXPER', 'MINE_EXPER', 'JOB_EXPER',\n",
       "       'OCCUPATION_CD', 'ACTIVITY_CD', 'INJURY_SOURCE_CD', 'NATURE_INJURY_CD',\n",
       "       'INJ_BODY_PART_CD', 'DAYS_RESTRICT', 'RETURN_TO_WORK_DT',\n",
       "       'IMMED_NOTIFY_CD', 'COAL_METAL_IND', 'CLASSIFICATION'],\n",
       "      dtype='object')"
      ]
     },
     "execution_count": 14,
     "metadata": {},
     "output_type": "execute_result"
    }
   ],
   "source": [
    "new_df1.columns\n"
   ]
  },
  {
   "cell_type": "code",
   "execution_count": 15,
   "id": "926ac94a",
   "metadata": {},
   "outputs": [],
   "source": [
    "indx_drop=new_df1[new_df1['DEGREE_INJURY_CD']=='?'].index #46 records with ? as the degree_injury not known"
   ]
  },
  {
   "cell_type": "code",
   "execution_count": 16,
   "id": "beb6ff13",
   "metadata": {},
   "outputs": [],
   "source": [
    "new_df1.drop(indx_drop,axis=0,inplace=True)"
   ]
  },
  {
   "cell_type": "code",
   "execution_count": 17,
   "id": "f24acc5f",
   "metadata": {},
   "outputs": [
    {
     "data": {
      "text/html": [
       "<div>\n",
       "<style scoped>\n",
       "    .dataframe tbody tr th:only-of-type {\n",
       "        vertical-align: middle;\n",
       "    }\n",
       "\n",
       "    .dataframe tbody tr th {\n",
       "        vertical-align: top;\n",
       "    }\n",
       "\n",
       "    .dataframe thead th {\n",
       "        text-align: right;\n",
       "    }\n",
       "</style>\n",
       "<table border=\"1\" class=\"dataframe\">\n",
       "  <thead>\n",
       "    <tr style=\"text-align: right;\">\n",
       "      <th></th>\n",
       "      <th>SUBUNIT_CD</th>\n",
       "      <th>ACCIDENT_DT</th>\n",
       "      <th>CAL_YR</th>\n",
       "      <th>CAL_QTR</th>\n",
       "      <th>ACCIDENT_TIME</th>\n",
       "      <th>DEGREE_INJURY_CD</th>\n",
       "      <th>FIPS_STATE_CD</th>\n",
       "      <th>UG_LOCATION_CD</th>\n",
       "      <th>UG_MINING_METHOD_CD</th>\n",
       "      <th>MINING_EQUIP_CD</th>\n",
       "      <th>...</th>\n",
       "      <th>OCCUPATION_CD</th>\n",
       "      <th>ACTIVITY_CD</th>\n",
       "      <th>INJURY_SOURCE_CD</th>\n",
       "      <th>NATURE_INJURY_CD</th>\n",
       "      <th>INJ_BODY_PART_CD</th>\n",
       "      <th>DAYS_RESTRICT</th>\n",
       "      <th>RETURN_TO_WORK_DT</th>\n",
       "      <th>IMMED_NOTIFY_CD</th>\n",
       "      <th>COAL_METAL_IND</th>\n",
       "      <th>CLASSIFICATION</th>\n",
       "    </tr>\n",
       "  </thead>\n",
       "  <tbody>\n",
       "    <tr>\n",
       "      <th>0</th>\n",
       "      <td>30</td>\n",
       "      <td>9/8/2014</td>\n",
       "      <td>2014</td>\n",
       "      <td>3</td>\n",
       "      <td>1330</td>\n",
       "      <td>6</td>\n",
       "      <td>1</td>\n",
       "      <td>?</td>\n",
       "      <td>?</td>\n",
       "      <td>?</td>\n",
       "      <td>...</td>\n",
       "      <td>304</td>\n",
       "      <td>28</td>\n",
       "      <td>24</td>\n",
       "      <td>130</td>\n",
       "      <td>130</td>\n",
       "      <td>0.0</td>\n",
       "      <td>9/9/2014</td>\n",
       "      <td>?</td>\n",
       "      <td>C</td>\n",
       "      <td>HANDLING OF MATERIALS</td>\n",
       "    </tr>\n",
       "    <tr>\n",
       "      <th>1</th>\n",
       "      <td>1</td>\n",
       "      <td>10/26/2016</td>\n",
       "      <td>2016</td>\n",
       "      <td>4</td>\n",
       "      <td>1400</td>\n",
       "      <td>3</td>\n",
       "      <td>1</td>\n",
       "      <td>1</td>\n",
       "      <td>5</td>\n",
       "      <td>?</td>\n",
       "      <td>...</td>\n",
       "      <td>46</td>\n",
       "      <td>82</td>\n",
       "      <td>21</td>\n",
       "      <td>130</td>\n",
       "      <td>130</td>\n",
       "      <td>0.0</td>\n",
       "      <td>11/9/2016</td>\n",
       "      <td>?</td>\n",
       "      <td>C</td>\n",
       "      <td>HANDLING OF MATERIALS</td>\n",
       "    </tr>\n",
       "    <tr>\n",
       "      <th>2</th>\n",
       "      <td>3</td>\n",
       "      <td>10/4/2005</td>\n",
       "      <td>2005</td>\n",
       "      <td>4</td>\n",
       "      <td>1325</td>\n",
       "      <td>3</td>\n",
       "      <td>1</td>\n",
       "      <td>?</td>\n",
       "      <td>?</td>\n",
       "      <td>?</td>\n",
       "      <td>...</td>\n",
       "      <td>418</td>\n",
       "      <td>28</td>\n",
       "      <td>88</td>\n",
       "      <td>400</td>\n",
       "      <td>340</td>\n",
       "      <td>0.0</td>\n",
       "      <td>10/6/2005</td>\n",
       "      <td>?</td>\n",
       "      <td>C</td>\n",
       "      <td>HANDLING OF MATERIALS</td>\n",
       "    </tr>\n",
       "    <tr>\n",
       "      <th>3</th>\n",
       "      <td>30</td>\n",
       "      <td>10/17/2006</td>\n",
       "      <td>2006</td>\n",
       "      <td>4</td>\n",
       "      <td>1140</td>\n",
       "      <td>3</td>\n",
       "      <td>4</td>\n",
       "      <td>?</td>\n",
       "      <td>?</td>\n",
       "      <td>16</td>\n",
       "      <td>...</td>\n",
       "      <td>414</td>\n",
       "      <td>39</td>\n",
       "      <td>88</td>\n",
       "      <td>180</td>\n",
       "      <td>330</td>\n",
       "      <td>0.0</td>\n",
       "      <td>NaN</td>\n",
       "      <td>?</td>\n",
       "      <td>C</td>\n",
       "      <td>HANDLING OF MATERIALS</td>\n",
       "    </tr>\n",
       "    <tr>\n",
       "      <th>4</th>\n",
       "      <td>1</td>\n",
       "      <td>2/11/2015</td>\n",
       "      <td>2015</td>\n",
       "      <td>1</td>\n",
       "      <td>1430</td>\n",
       "      <td>3</td>\n",
       "      <td>8</td>\n",
       "      <td>6</td>\n",
       "      <td>1</td>\n",
       "      <td>?</td>\n",
       "      <td>...</td>\n",
       "      <td>116</td>\n",
       "      <td>28</td>\n",
       "      <td>88</td>\n",
       "      <td>330</td>\n",
       "      <td>440</td>\n",
       "      <td>0.0</td>\n",
       "      <td>2/27/2015</td>\n",
       "      <td>?</td>\n",
       "      <td>C</td>\n",
       "      <td>HANDLING OF MATERIALS</td>\n",
       "    </tr>\n",
       "    <tr>\n",
       "      <th>...</th>\n",
       "      <td>...</td>\n",
       "      <td>...</td>\n",
       "      <td>...</td>\n",
       "      <td>...</td>\n",
       "      <td>...</td>\n",
       "      <td>...</td>\n",
       "      <td>...</td>\n",
       "      <td>...</td>\n",
       "      <td>...</td>\n",
       "      <td>...</td>\n",
       "      <td>...</td>\n",
       "      <td>...</td>\n",
       "      <td>...</td>\n",
       "      <td>...</td>\n",
       "      <td>...</td>\n",
       "      <td>...</td>\n",
       "      <td>...</td>\n",
       "      <td>...</td>\n",
       "      <td>...</td>\n",
       "      <td>...</td>\n",
       "      <td>...</td>\n",
       "    </tr>\n",
       "    <tr>\n",
       "      <th>36011</th>\n",
       "      <td>1</td>\n",
       "      <td>11/7/2008</td>\n",
       "      <td>2008</td>\n",
       "      <td>4</td>\n",
       "      <td>2054</td>\n",
       "      <td>8</td>\n",
       "      <td>51</td>\n",
       "      <td>2</td>\n",
       "      <td>5</td>\n",
       "      <td>?</td>\n",
       "      <td>...</td>\n",
       "      <td>418</td>\n",
       "      <td>34</td>\n",
       "      <td>127</td>\n",
       "      <td>340</td>\n",
       "      <td>600</td>\n",
       "      <td>0.0</td>\n",
       "      <td>NaN</td>\n",
       "      <td>?</td>\n",
       "      <td>C</td>\n",
       "      <td>OTHER</td>\n",
       "    </tr>\n",
       "    <tr>\n",
       "      <th>36012</th>\n",
       "      <td>3</td>\n",
       "      <td>1/3/2006</td>\n",
       "      <td>2006</td>\n",
       "      <td>1</td>\n",
       "      <td>2200</td>\n",
       "      <td>6</td>\n",
       "      <td>51</td>\n",
       "      <td>?</td>\n",
       "      <td>?</td>\n",
       "      <td>?</td>\n",
       "      <td>...</td>\n",
       "      <td>304</td>\n",
       "      <td>39</td>\n",
       "      <td>92</td>\n",
       "      <td>320</td>\n",
       "      <td>130</td>\n",
       "      <td>0.0</td>\n",
       "      <td>1/3/2006</td>\n",
       "      <td>?</td>\n",
       "      <td>C</td>\n",
       "      <td>OTHER</td>\n",
       "    </tr>\n",
       "    <tr>\n",
       "      <th>36013</th>\n",
       "      <td>2</td>\n",
       "      <td>10/18/2004</td>\n",
       "      <td>2004</td>\n",
       "      <td>4</td>\n",
       "      <td>730</td>\n",
       "      <td>8</td>\n",
       "      <td>54</td>\n",
       "      <td>?</td>\n",
       "      <td>?</td>\n",
       "      <td>?</td>\n",
       "      <td>...</td>\n",
       "      <td>36</td>\n",
       "      <td>9</td>\n",
       "      <td>127</td>\n",
       "      <td>340</td>\n",
       "      <td>600</td>\n",
       "      <td>0.0</td>\n",
       "      <td>NaN</td>\n",
       "      <td>?</td>\n",
       "      <td>C</td>\n",
       "      <td>OTHER</td>\n",
       "    </tr>\n",
       "    <tr>\n",
       "      <th>36014</th>\n",
       "      <td>1</td>\n",
       "      <td>5/2/2018</td>\n",
       "      <td>2018</td>\n",
       "      <td>2</td>\n",
       "      <td>1830</td>\n",
       "      <td>3</td>\n",
       "      <td>54</td>\n",
       "      <td>3</td>\n",
       "      <td>1</td>\n",
       "      <td>?</td>\n",
       "      <td>...</td>\n",
       "      <td>16</td>\n",
       "      <td>28</td>\n",
       "      <td>1</td>\n",
       "      <td>280</td>\n",
       "      <td>600</td>\n",
       "      <td>0.0</td>\n",
       "      <td>6/11/2018</td>\n",
       "      <td>?</td>\n",
       "      <td>C</td>\n",
       "      <td>OTHER</td>\n",
       "    </tr>\n",
       "    <tr>\n",
       "      <th>36015</th>\n",
       "      <td>30</td>\n",
       "      <td>8/2/2014</td>\n",
       "      <td>2014</td>\n",
       "      <td>3</td>\n",
       "      <td>9999</td>\n",
       "      <td>8</td>\n",
       "      <td>54</td>\n",
       "      <td>?</td>\n",
       "      <td>?</td>\n",
       "      <td>?</td>\n",
       "      <td>...</td>\n",
       "      <td>306</td>\n",
       "      <td>99</td>\n",
       "      <td>127</td>\n",
       "      <td>340</td>\n",
       "      <td>600</td>\n",
       "      <td>0.0</td>\n",
       "      <td>NaN</td>\n",
       "      <td>?</td>\n",
       "      <td>C</td>\n",
       "      <td>OTHER</td>\n",
       "    </tr>\n",
       "  </tbody>\n",
       "</table>\n",
       "<p>35970 rows × 26 columns</p>\n",
       "</div>"
      ],
      "text/plain": [
       "       SUBUNIT_CD ACCIDENT_DT  CAL_YR  CAL_QTR  ACCIDENT_TIME  \\\n",
       "0              30    9/8/2014    2014        3           1330   \n",
       "1               1  10/26/2016    2016        4           1400   \n",
       "2               3   10/4/2005    2005        4           1325   \n",
       "3              30  10/17/2006    2006        4           1140   \n",
       "4               1   2/11/2015    2015        1           1430   \n",
       "...           ...         ...     ...      ...            ...   \n",
       "36011           1   11/7/2008    2008        4           2054   \n",
       "36012           3    1/3/2006    2006        1           2200   \n",
       "36013           2  10/18/2004    2004        4            730   \n",
       "36014           1    5/2/2018    2018        2           1830   \n",
       "36015          30    8/2/2014    2014        3           9999   \n",
       "\n",
       "      DEGREE_INJURY_CD  FIPS_STATE_CD UG_LOCATION_CD UG_MINING_METHOD_CD  \\\n",
       "0                    6              1              ?                   ?   \n",
       "1                    3              1              1                   5   \n",
       "2                    3              1              ?                   ?   \n",
       "3                    3              4              ?                   ?   \n",
       "4                    3              8              6                   1   \n",
       "...                ...            ...            ...                 ...   \n",
       "36011                8             51              2                   5   \n",
       "36012                6             51              ?                   ?   \n",
       "36013                8             54              ?                   ?   \n",
       "36014                3             54              3                   1   \n",
       "36015                8             54              ?                   ?   \n",
       "\n",
       "      MINING_EQUIP_CD  ... OCCUPATION_CD ACTIVITY_CD  INJURY_SOURCE_CD  \\\n",
       "0                   ?  ...           304          28                24   \n",
       "1                   ?  ...            46          82                21   \n",
       "2                   ?  ...           418          28                88   \n",
       "3                  16  ...           414          39                88   \n",
       "4                   ?  ...           116          28                88   \n",
       "...               ...  ...           ...         ...               ...   \n",
       "36011               ?  ...           418          34               127   \n",
       "36012               ?  ...           304          39                92   \n",
       "36013               ?  ...            36           9               127   \n",
       "36014               ?  ...            16          28                 1   \n",
       "36015               ?  ...           306          99               127   \n",
       "\n",
       "       NATURE_INJURY_CD  INJ_BODY_PART_CD  DAYS_RESTRICT RETURN_TO_WORK_DT  \\\n",
       "0                   130               130            0.0          9/9/2014   \n",
       "1                   130               130            0.0         11/9/2016   \n",
       "2                   400               340            0.0         10/6/2005   \n",
       "3                   180               330            0.0               NaN   \n",
       "4                   330               440            0.0         2/27/2015   \n",
       "...                 ...               ...            ...               ...   \n",
       "36011               340               600            0.0               NaN   \n",
       "36012               320               130            0.0          1/3/2006   \n",
       "36013               340               600            0.0               NaN   \n",
       "36014               280               600            0.0         6/11/2018   \n",
       "36015               340               600            0.0               NaN   \n",
       "\n",
       "      IMMED_NOTIFY_CD COAL_METAL_IND         CLASSIFICATION  \n",
       "0                  ?               C  HANDLING OF MATERIALS  \n",
       "1                  ?               C  HANDLING OF MATERIALS  \n",
       "2                  ?               C  HANDLING OF MATERIALS  \n",
       "3                  ?               C  HANDLING OF MATERIALS  \n",
       "4                  ?               C  HANDLING OF MATERIALS  \n",
       "...               ...            ...                    ...  \n",
       "36011              ?               C                  OTHER  \n",
       "36012              ?               C                  OTHER  \n",
       "36013              ?               C                  OTHER  \n",
       "36014              ?               C                  OTHER  \n",
       "36015              ?               C                  OTHER  \n",
       "\n",
       "[35970 rows x 26 columns]"
      ]
     },
     "execution_count": 17,
     "metadata": {},
     "output_type": "execute_result"
    }
   ],
   "source": [
    "new_df1"
   ]
  },
  {
   "cell_type": "code",
   "execution_count": 18,
   "id": "19511032",
   "metadata": {},
   "outputs": [],
   "source": [
    "indx_drop2=new_df1[new_df1['UG_LOCATION_CD']=='?'].index\n"
   ]
  },
  {
   "cell_type": "code",
   "execution_count": 19,
   "id": "74f304ca",
   "metadata": {},
   "outputs": [],
   "source": [
    "new_df1.drop(indx_drop2,axis=0,inplace=True)"
   ]
  },
  {
   "cell_type": "code",
   "execution_count": 20,
   "id": "d6625803",
   "metadata": {},
   "outputs": [
    {
     "data": {
      "text/plain": [
       "(24459, 26)"
      ]
     },
     "execution_count": 20,
     "metadata": {},
     "output_type": "execute_result"
    }
   ],
   "source": [
    "new_df1.shape"
   ]
  },
  {
   "cell_type": "code",
   "execution_count": 21,
   "id": "fc61bb69",
   "metadata": {},
   "outputs": [],
   "source": [
    "indx_drop3=new_df1[new_df1['UG_MINING_METHOD_CD']=='?'].index\n",
    "new_df1.drop(indx_drop3,axis=0,inplace=True)\n"
   ]
  },
  {
   "cell_type": "code",
   "execution_count": 22,
   "id": "fb6008d0",
   "metadata": {},
   "outputs": [
    {
     "data": {
      "text/plain": [
       "Index(['SUBUNIT_CD', 'ACCIDENT_DT', 'CAL_YR', 'CAL_QTR', 'ACCIDENT_TIME',\n",
       "       'DEGREE_INJURY_CD', 'FIPS_STATE_CD', 'UG_LOCATION_CD',\n",
       "       'UG_MINING_METHOD_CD', 'MINING_EQUIP_CD', 'EQUIP_MFR_CD',\n",
       "       'ACCIDENT_TYPE', 'NO_INJURIES', 'TOT_EXPER', 'MINE_EXPER', 'JOB_EXPER',\n",
       "       'OCCUPATION_CD', 'ACTIVITY_CD', 'INJURY_SOURCE_CD', 'NATURE_INJURY_CD',\n",
       "       'INJ_BODY_PART_CD', 'DAYS_RESTRICT', 'RETURN_TO_WORK_DT',\n",
       "       'IMMED_NOTIFY_CD', 'COAL_METAL_IND', 'CLASSIFICATION'],\n",
       "      dtype='object')"
      ]
     },
     "execution_count": 22,
     "metadata": {},
     "output_type": "execute_result"
    }
   ],
   "source": [
    "new_df1.columns"
   ]
  },
  {
   "cell_type": "code",
   "execution_count": 23,
   "id": "98504cfc",
   "metadata": {},
   "outputs": [],
   "source": [
    "new_df1.dropna(subset=['TOT_EXPER', 'MINE_EXPER', 'JOB_EXPER'],inplace=True)"
   ]
  },
  {
   "cell_type": "code",
   "execution_count": 24,
   "id": "4fe87d70",
   "metadata": {},
   "outputs": [
    {
     "data": {
      "text/plain": [
       "TOT_EXPER     0\n",
       "MINE_EXPER    0\n",
       "JOB_EXPER     0\n",
       "dtype: int64"
      ]
     },
     "execution_count": 24,
     "metadata": {},
     "output_type": "execute_result"
    }
   ],
   "source": [
    "new_df1[['TOT_EXPER', 'MINE_EXPER', 'JOB_EXPER']].isnull().sum()"
   ]
  },
  {
   "cell_type": "code",
   "execution_count": 25,
   "id": "c542e4a6",
   "metadata": {},
   "outputs": [
    {
     "data": {
      "text/plain": [
       "Int64Index([25904, 35294], dtype='int64')"
      ]
     },
     "execution_count": 25,
     "metadata": {},
     "output_type": "execute_result"
    }
   ],
   "source": [
    "\n",
    "indx5=new_df1[new_df1['INJ_BODY_PART_CD']=='?'].index\n",
    "\n",
    "indx5"
   ]
  },
  {
   "cell_type": "code",
   "execution_count": 35,
   "id": "b7c995af",
   "metadata": {},
   "outputs": [],
   "source": [
    "\n",
    "new_df1.drop(indx4,axis=0,inplace=True)"
   ]
  },
  {
   "cell_type": "code",
   "execution_count": 27,
   "id": "7e5f1d4b",
   "metadata": {},
   "outputs": [],
   "source": [
    "\n",
    "indx1=new_df1[new_df1['OCCUPATION_CD']=='?'].index\n",
    "\n",
    "new_df1.drop(indx1,axis=0,inplace=True)"
   ]
  },
  {
   "cell_type": "code",
   "execution_count": 28,
   "id": "05afa631",
   "metadata": {},
   "outputs": [],
   "source": [
    "indx2=new_df1[new_df1['ACTIVITY_CD']=='?'].index\n",
    "new_df1.drop(indx2,axis=0,inplace=True)"
   ]
  },
  {
   "cell_type": "code",
   "execution_count": 29,
   "id": "170e915c",
   "metadata": {},
   "outputs": [],
   "source": [
    "indx2=new_df1[new_df1['INJURY_SOURCE_CD']=='?'].index\n",
    "new_df1.drop(indx2,axis=0,inplace=True)"
   ]
  },
  {
   "cell_type": "code",
   "execution_count": 30,
   "id": "38754511",
   "metadata": {},
   "outputs": [
    {
     "data": {
      "text/plain": [
       "(20715, 26)"
      ]
     },
     "execution_count": 30,
     "metadata": {},
     "output_type": "execute_result"
    }
   ],
   "source": [
    "new_df1.shape"
   ]
  },
  {
   "cell_type": "code",
   "execution_count": 31,
   "id": "77b83e3f",
   "metadata": {},
   "outputs": [],
   "source": [
    "indx6=new_df1[new_df1['INJ_BODY_PART_CD']=='?'].index\n",
    "new_df1.drop(indx6,axis=0,inplace=True)"
   ]
  },
  {
   "cell_type": "code",
   "execution_count": 44,
   "id": "c79b111c",
   "metadata": {},
   "outputs": [],
   "source": [
    "indx6=new_df1[new_df1['MINING_EQUIP_CD']=='?'].index\n",
    "new_df1.drop(indx6,axis=0,inplace=True)"
   ]
  },
  {
   "cell_type": "code",
   "execution_count": 45,
   "id": "6e359a96",
   "metadata": {},
   "outputs": [
    {
     "data": {
      "text/plain": [
       "(7352, 24)"
      ]
     },
     "execution_count": 45,
     "metadata": {},
     "output_type": "execute_result"
    }
   ],
   "source": [
    "new_df1.shape"
   ]
  },
  {
   "cell_type": "code",
   "execution_count": 33,
   "id": "5c7c7238",
   "metadata": {},
   "outputs": [],
   "source": [
    "new_df1.drop('IMMED_NOTIFY_CD',axis=1,inplace=True)"
   ]
  },
  {
   "cell_type": "code",
   "execution_count": 46,
   "id": "968856f1",
   "metadata": {},
   "outputs": [
    {
     "data": {
      "text/plain": [
       "(7352, 24)"
      ]
     },
     "execution_count": 46,
     "metadata": {},
     "output_type": "execute_result"
    }
   ],
   "source": [
    "new_df1.shape"
   ]
  },
  {
   "cell_type": "code",
   "execution_count": 47,
   "id": "14562d13",
   "metadata": {},
   "outputs": [],
   "source": [
    "new_df1.dropna(axis=0,inplace=True)"
   ]
  },
  {
   "cell_type": "code",
   "execution_count": 48,
   "id": "fdfd3c8d",
   "metadata": {},
   "outputs": [
    {
     "data": {
      "text/plain": [
       "SUBUNIT_CD             0\n",
       "ACCIDENT_DT            0\n",
       "CAL_YR                 0\n",
       "CAL_QTR                0\n",
       "ACCIDENT_TIME          0\n",
       "DEGREE_INJURY_CD       0\n",
       "FIPS_STATE_CD          0\n",
       "UG_LOCATION_CD         0\n",
       "UG_MINING_METHOD_CD    0\n",
       "MINING_EQUIP_CD        0\n",
       "ACCIDENT_TYPE          0\n",
       "NO_INJURIES            0\n",
       "TOT_EXPER              0\n",
       "MINE_EXPER             0\n",
       "JOB_EXPER              0\n",
       "OCCUPATION_CD          0\n",
       "ACTIVITY_CD            0\n",
       "INJURY_SOURCE_CD       0\n",
       "NATURE_INJURY_CD       0\n",
       "INJ_BODY_PART_CD       0\n",
       "DAYS_RESTRICT          0\n",
       "RETURN_TO_WORK_DT      0\n",
       "COAL_METAL_IND         0\n",
       "CLASSIFICATION         0\n",
       "dtype: int64"
      ]
     },
     "execution_count": 48,
     "metadata": {},
     "output_type": "execute_result"
    }
   ],
   "source": [
    "new_df1.isnull().sum()"
   ]
  },
  {
   "cell_type": "code",
   "execution_count": 49,
   "id": "19d40472",
   "metadata": {},
   "outputs": [
    {
     "data": {
      "text/plain": [
       "(7352, 24)"
      ]
     },
     "execution_count": 49,
     "metadata": {},
     "output_type": "execute_result"
    }
   ],
   "source": [
    "new_df1.shape"
   ]
  },
  {
   "cell_type": "code",
   "execution_count": 38,
   "id": "8606ed39",
   "metadata": {},
   "outputs": [],
   "source": [
    "new_df1.drop('EQUIP_MFR_CD',axis=1,inplace=True)"
   ]
  },
  {
   "cell_type": "code",
   "execution_count": 50,
   "id": "ee0f0513",
   "metadata": {},
   "outputs": [
    {
     "data": {
      "text/plain": [
       "(7352, 24)"
      ]
     },
     "execution_count": 50,
     "metadata": {},
     "output_type": "execute_result"
    }
   ],
   "source": [
    "new_df1.shape"
   ]
  },
  {
   "cell_type": "code",
   "execution_count": 51,
   "id": "7d0d3646",
   "metadata": {},
   "outputs": [],
   "source": [
    "N=new_df1['MINING_EQUIP_CD']=='?'#[new_df1['MINING_EQUIP_CD']=='?']\n",
    "    \n",
    "    "
   ]
  },
  {
   "cell_type": "code",
   "execution_count": 52,
   "id": "4d788036",
   "metadata": {},
   "outputs": [
    {
     "data": {
      "text/plain": [
       "array([False])"
      ]
     },
     "execution_count": 52,
     "metadata": {},
     "output_type": "execute_result"
    }
   ],
   "source": [
    "N.unique()"
   ]
  },
  {
   "cell_type": "markdown",
   "id": "f8e3fe63",
   "metadata": {},
   "source": [
    "# Feature selection"
   ]
  },
  {
   "cell_type": "code",
   "execution_count": 84,
   "id": "019e8cc2",
   "metadata": {},
   "outputs": [
    {
     "name": "stdout",
     "output_type": "stream",
     "text": [
      "<class 'pandas.core.frame.DataFrame'>\n",
      "Int64Index: 7352 entries, 19 to 35780\n",
      "Data columns (total 24 columns):\n",
      " #   Column               Non-Null Count  Dtype  \n",
      "---  ------               --------------  -----  \n",
      " 0   SUBUNIT_CD           7352 non-null   int64  \n",
      " 1   ACCIDENT_DT          7352 non-null   object \n",
      " 2   CAL_YR               7352 non-null   int64  \n",
      " 3   CAL_QTR              7352 non-null   int64  \n",
      " 4   ACCIDENT_TIME        7352 non-null   int64  \n",
      " 5   DEGREE_INJURY_CD     7352 non-null   object \n",
      " 6   FIPS_STATE_CD        7352 non-null   int64  \n",
      " 7   UG_LOCATION_CD       7352 non-null   object \n",
      " 8   UG_MINING_METHOD_CD  7352 non-null   object \n",
      " 9   MINING_EQUIP_CD      7352 non-null   object \n",
      " 10  ACCIDENT_TYPE        7352 non-null   object \n",
      " 11  NO_INJURIES          7352 non-null   int64  \n",
      " 12  TOT_EXPER            7352 non-null   float64\n",
      " 13  MINE_EXPER           7352 non-null   float64\n",
      " 14  JOB_EXPER            7352 non-null   float64\n",
      " 15  OCCUPATION_CD        7352 non-null   object \n",
      " 16  ACTIVITY_CD          7352 non-null   object \n",
      " 17  INJURY_SOURCE_CD     7352 non-null   object \n",
      " 18  NATURE_INJURY_CD     7352 non-null   object \n",
      " 19  INJ_BODY_PART_CD     7352 non-null   object \n",
      " 20  DAYS_RESTRICT        7352 non-null   float64\n",
      " 21  RETURN_TO_WORK_DT    7352 non-null   object \n",
      " 22  COAL_METAL_IND       7352 non-null   object \n",
      " 23  CLASSIFICATION       7352 non-null   object \n",
      "dtypes: float64(4), int64(6), object(14)\n",
      "memory usage: 1.4+ MB\n"
     ]
    }
   ],
   "source": [
    "new_df1.info()"
   ]
  },
  {
   "cell_type": "markdown",
   "id": "9bcfe766",
   "metadata": {},
   "source": [
    "Before applying feature selection techniques let us first convert the columns having object datatype to int64 type"
   ]
  },
  {
   "cell_type": "markdown",
   "id": "13afbc80",
   "metadata": {},
   "source": [
    "convert_type={   \n",
    "    'DEGREE_INJURY_CD':int,\n",
    "    'UG_LOCATION_CD':int,\n",
    "    'UG_MINING_METHOD_CD':int,----ONEHOT_ENODING\n",
    "     'MINING_EQUIP_CD':int, \n",
    "    'ACCIDENT_TYPE':int,----one hot encoding\n",
    "    'TOT_EXPER':int,\n",
    "    'MINE_EXPER':int,\n",
    "    'JOB_EXPER':int,\n",
    "    'OCCUPATION_CD':int, \n",
    "    'ACTIVITY_CD':int,\n",
    "    'INJURY_SOURCE_CD':int,\n",
    "    'NATURE_INJURY_CD':int,\n",
    "    'INJ_BODY_PART_CD':int, \n",
    "}"
   ]
  },
  {
   "cell_type": "code",
   "execution_count": 73,
   "id": "1dcbb338",
   "metadata": {},
   "outputs": [],
   "source": [
    "new_df1['OCCUPATION_CD']=new_df1['OCCUPATION_CD'].astype(int)\n",
    "new_df1['ACTIVITY_CD']=new_df1['ACTIVITY_CD'].astype(int)\n",
    "new_df1['INJURY_SOURCE_CD']=new_df1['INJURY_SOURCE_CD'].astype(int)\n",
    "new_df1['DAYS_RESTRICT']=new_df1['DAYS_RESTRICT'].astype(int)\n",
    "new_df1['DEGREE_INJURY_CD']=new_df1['DEGREE_INJURY_CD'].astype(int)\n",
    "new_df1['UG_LOCATION_CD']=new_df1['UG_LOCATION_CD'].astype(int)\n",
    "new_df1['UG_MINING_METHOD_CD']=new_df1['UG_MINING_METHOD_CD'].astype(int)\n",
    "new_df1['MINING_EQUIP_CD']=new_df1['MINING_EQUIP_CD'].astype(int)\n",
    "new_df1['NATURE_INJURY_CD']=new_df1['NATURE_INJURY_CD'].astype(int)\n"
   ]
  },
  {
   "cell_type": "code",
   "execution_count": 74,
   "id": "654a8eb2",
   "metadata": {},
   "outputs": [
    {
     "data": {
      "text/plain": [
       "19       5\n",
       "20       5\n",
       "45       5\n",
       "66       5\n",
       "108      5\n",
       "        ..\n",
       "35530    5\n",
       "35559    5\n",
       "35700    5\n",
       "35764    8\n",
       "35780    5\n",
       "Name: UG_MINING_METHOD_CD, Length: 7352, dtype: int32"
      ]
     },
     "execution_count": 74,
     "metadata": {},
     "output_type": "execute_result"
    }
   ],
   "source": [
    "new_df1['UG_MINING_METHOD_CD']"
   ]
  },
  {
   "cell_type": "code",
   "execution_count": 75,
   "id": "8c9747a5",
   "metadata": {},
   "outputs": [
    {
     "name": "stdout",
     "output_type": "stream",
     "text": [
      "<class 'pandas.core.frame.DataFrame'>\n",
      "Int64Index: 7352 entries, 19 to 35780\n",
      "Data columns (total 19 columns):\n",
      " #   Column               Non-Null Count  Dtype  \n",
      "---  ------               --------------  -----  \n",
      " 0   SUBUNIT_CD           7352 non-null   int64  \n",
      " 1   DEGREE_INJURY_CD     7352 non-null   int32  \n",
      " 2   UG_LOCATION_CD       7352 non-null   int32  \n",
      " 3   UG_MINING_METHOD_CD  7352 non-null   int32  \n",
      " 4   MINING_EQUIP_CD      7352 non-null   int32  \n",
      " 5   NO_INJURIES          7352 non-null   int64  \n",
      " 6   TOT_EXPER            7352 non-null   float64\n",
      " 7   MINE_EXPER           7352 non-null   float64\n",
      " 8   JOB_EXPER            7352 non-null   float64\n",
      " 9   OCCUPATION_CD        7352 non-null   int32  \n",
      " 10  ACTIVITY_CD          7352 non-null   int32  \n",
      " 11  INJURY_SOURCE_CD     7352 non-null   int32  \n",
      " 12  NATURE_INJURY_CD     7352 non-null   int32  \n",
      " 13  INJ_BODY_PART_CD     7352 non-null   object \n",
      " 14  DAYS_RESTRICT        7352 non-null   int32  \n",
      " 15  COAL_METAL_IND       7352 non-null   object \n",
      " 16  CLASSIFICATION       7352 non-null   object \n",
      " 17  UG_LOCATION_CD       7352 non-null   int32  \n",
      " 18  Duration             7352 non-null   object \n",
      "dtypes: float64(3), int32(10), int64(2), object(4)\n",
      "memory usage: 861.6+ KB\n"
     ]
    }
   ],
   "source": [
    "new_df1.info()"
   ]
  },
  {
   "cell_type": "code",
   "execution_count": 76,
   "id": "14eed0b8",
   "metadata": {},
   "outputs": [
    {
     "ename": "KeyError",
     "evalue": "\"['CAL_YR', 'CAL_QTR', 'ACCIDENT_TIME', 'FIPS_STATE_CD'] not found in axis\"",
     "output_type": "error",
     "traceback": [
      "\u001b[1;31m---------------------------------------------------------------------------\u001b[0m",
      "\u001b[1;31mKeyError\u001b[0m                                  Traceback (most recent call last)",
      "Input \u001b[1;32mIn [76]\u001b[0m, in \u001b[0;36m<cell line: 1>\u001b[1;34m()\u001b[0m\n\u001b[1;32m----> 1\u001b[0m \u001b[43mnew_df1\u001b[49m\u001b[38;5;241;43m.\u001b[39;49m\u001b[43mdrop\u001b[49m\u001b[43m(\u001b[49m\u001b[43m[\u001b[49m\u001b[38;5;124;43m'\u001b[39;49m\u001b[38;5;124;43mCAL_YR\u001b[39;49m\u001b[38;5;124;43m'\u001b[39;49m\u001b[43m,\u001b[49m\u001b[43m \u001b[49m\u001b[38;5;124;43m'\u001b[39;49m\u001b[38;5;124;43mCAL_QTR\u001b[39;49m\u001b[38;5;124;43m'\u001b[39;49m\u001b[43m,\u001b[49m\u001b[38;5;124;43m'\u001b[39;49m\u001b[38;5;124;43mACCIDENT_TIME\u001b[39;49m\u001b[38;5;124;43m'\u001b[39;49m\u001b[43m,\u001b[49m\u001b[38;5;124;43m'\u001b[39;49m\u001b[38;5;124;43mFIPS_STATE_CD\u001b[39;49m\u001b[38;5;124;43m'\u001b[39;49m\u001b[43m]\u001b[49m\u001b[43m,\u001b[49m\u001b[43maxis\u001b[49m\u001b[38;5;241;43m=\u001b[39;49m\u001b[38;5;241;43m1\u001b[39;49m\u001b[43m,\u001b[49m\u001b[43minplace\u001b[49m\u001b[38;5;241;43m=\u001b[39;49m\u001b[38;5;28;43;01mTrue\u001b[39;49;00m\u001b[43m)\u001b[49m\n",
      "File \u001b[1;32m~\\anaconda3\\lib\\site-packages\\pandas\\util\\_decorators.py:311\u001b[0m, in \u001b[0;36mdeprecate_nonkeyword_arguments.<locals>.decorate.<locals>.wrapper\u001b[1;34m(*args, **kwargs)\u001b[0m\n\u001b[0;32m    305\u001b[0m \u001b[38;5;28;01mif\u001b[39;00m \u001b[38;5;28mlen\u001b[39m(args) \u001b[38;5;241m>\u001b[39m num_allow_args:\n\u001b[0;32m    306\u001b[0m     warnings\u001b[38;5;241m.\u001b[39mwarn(\n\u001b[0;32m    307\u001b[0m         msg\u001b[38;5;241m.\u001b[39mformat(arguments\u001b[38;5;241m=\u001b[39marguments),\n\u001b[0;32m    308\u001b[0m         \u001b[38;5;167;01mFutureWarning\u001b[39;00m,\n\u001b[0;32m    309\u001b[0m         stacklevel\u001b[38;5;241m=\u001b[39mstacklevel,\n\u001b[0;32m    310\u001b[0m     )\n\u001b[1;32m--> 311\u001b[0m \u001b[38;5;28;01mreturn\u001b[39;00m func(\u001b[38;5;241m*\u001b[39margs, \u001b[38;5;241m*\u001b[39m\u001b[38;5;241m*\u001b[39mkwargs)\n",
      "File \u001b[1;32m~\\anaconda3\\lib\\site-packages\\pandas\\core\\frame.py:4954\u001b[0m, in \u001b[0;36mDataFrame.drop\u001b[1;34m(self, labels, axis, index, columns, level, inplace, errors)\u001b[0m\n\u001b[0;32m   4806\u001b[0m \u001b[38;5;129m@deprecate_nonkeyword_arguments\u001b[39m(version\u001b[38;5;241m=\u001b[39m\u001b[38;5;28;01mNone\u001b[39;00m, allowed_args\u001b[38;5;241m=\u001b[39m[\u001b[38;5;124m\"\u001b[39m\u001b[38;5;124mself\u001b[39m\u001b[38;5;124m\"\u001b[39m, \u001b[38;5;124m\"\u001b[39m\u001b[38;5;124mlabels\u001b[39m\u001b[38;5;124m\"\u001b[39m])\n\u001b[0;32m   4807\u001b[0m \u001b[38;5;28;01mdef\u001b[39;00m \u001b[38;5;21mdrop\u001b[39m(\n\u001b[0;32m   4808\u001b[0m     \u001b[38;5;28mself\u001b[39m,\n\u001b[1;32m   (...)\u001b[0m\n\u001b[0;32m   4815\u001b[0m     errors: \u001b[38;5;28mstr\u001b[39m \u001b[38;5;241m=\u001b[39m \u001b[38;5;124m\"\u001b[39m\u001b[38;5;124mraise\u001b[39m\u001b[38;5;124m\"\u001b[39m,\n\u001b[0;32m   4816\u001b[0m ):\n\u001b[0;32m   4817\u001b[0m \u001b[38;5;250m    \u001b[39m\u001b[38;5;124;03m\"\"\"\u001b[39;00m\n\u001b[0;32m   4818\u001b[0m \u001b[38;5;124;03m    Drop specified labels from rows or columns.\u001b[39;00m\n\u001b[0;32m   4819\u001b[0m \n\u001b[1;32m   (...)\u001b[0m\n\u001b[0;32m   4952\u001b[0m \u001b[38;5;124;03m            weight  1.0     0.8\u001b[39;00m\n\u001b[0;32m   4953\u001b[0m \u001b[38;5;124;03m    \"\"\"\u001b[39;00m\n\u001b[1;32m-> 4954\u001b[0m     \u001b[38;5;28;01mreturn\u001b[39;00m \u001b[38;5;28;43msuper\u001b[39;49m\u001b[43m(\u001b[49m\u001b[43m)\u001b[49m\u001b[38;5;241;43m.\u001b[39;49m\u001b[43mdrop\u001b[49m\u001b[43m(\u001b[49m\n\u001b[0;32m   4955\u001b[0m \u001b[43m        \u001b[49m\u001b[43mlabels\u001b[49m\u001b[38;5;241;43m=\u001b[39;49m\u001b[43mlabels\u001b[49m\u001b[43m,\u001b[49m\n\u001b[0;32m   4956\u001b[0m \u001b[43m        \u001b[49m\u001b[43maxis\u001b[49m\u001b[38;5;241;43m=\u001b[39;49m\u001b[43maxis\u001b[49m\u001b[43m,\u001b[49m\n\u001b[0;32m   4957\u001b[0m \u001b[43m        \u001b[49m\u001b[43mindex\u001b[49m\u001b[38;5;241;43m=\u001b[39;49m\u001b[43mindex\u001b[49m\u001b[43m,\u001b[49m\n\u001b[0;32m   4958\u001b[0m \u001b[43m        \u001b[49m\u001b[43mcolumns\u001b[49m\u001b[38;5;241;43m=\u001b[39;49m\u001b[43mcolumns\u001b[49m\u001b[43m,\u001b[49m\n\u001b[0;32m   4959\u001b[0m \u001b[43m        \u001b[49m\u001b[43mlevel\u001b[49m\u001b[38;5;241;43m=\u001b[39;49m\u001b[43mlevel\u001b[49m\u001b[43m,\u001b[49m\n\u001b[0;32m   4960\u001b[0m \u001b[43m        \u001b[49m\u001b[43minplace\u001b[49m\u001b[38;5;241;43m=\u001b[39;49m\u001b[43minplace\u001b[49m\u001b[43m,\u001b[49m\n\u001b[0;32m   4961\u001b[0m \u001b[43m        \u001b[49m\u001b[43merrors\u001b[49m\u001b[38;5;241;43m=\u001b[39;49m\u001b[43merrors\u001b[49m\u001b[43m,\u001b[49m\n\u001b[0;32m   4962\u001b[0m \u001b[43m    \u001b[49m\u001b[43m)\u001b[49m\n",
      "File \u001b[1;32m~\\anaconda3\\lib\\site-packages\\pandas\\core\\generic.py:4267\u001b[0m, in \u001b[0;36mNDFrame.drop\u001b[1;34m(self, labels, axis, index, columns, level, inplace, errors)\u001b[0m\n\u001b[0;32m   4265\u001b[0m \u001b[38;5;28;01mfor\u001b[39;00m axis, labels \u001b[38;5;129;01min\u001b[39;00m axes\u001b[38;5;241m.\u001b[39mitems():\n\u001b[0;32m   4266\u001b[0m     \u001b[38;5;28;01mif\u001b[39;00m labels \u001b[38;5;129;01mis\u001b[39;00m \u001b[38;5;129;01mnot\u001b[39;00m \u001b[38;5;28;01mNone\u001b[39;00m:\n\u001b[1;32m-> 4267\u001b[0m         obj \u001b[38;5;241m=\u001b[39m \u001b[43mobj\u001b[49m\u001b[38;5;241;43m.\u001b[39;49m\u001b[43m_drop_axis\u001b[49m\u001b[43m(\u001b[49m\u001b[43mlabels\u001b[49m\u001b[43m,\u001b[49m\u001b[43m \u001b[49m\u001b[43maxis\u001b[49m\u001b[43m,\u001b[49m\u001b[43m \u001b[49m\u001b[43mlevel\u001b[49m\u001b[38;5;241;43m=\u001b[39;49m\u001b[43mlevel\u001b[49m\u001b[43m,\u001b[49m\u001b[43m \u001b[49m\u001b[43merrors\u001b[49m\u001b[38;5;241;43m=\u001b[39;49m\u001b[43merrors\u001b[49m\u001b[43m)\u001b[49m\n\u001b[0;32m   4269\u001b[0m \u001b[38;5;28;01mif\u001b[39;00m inplace:\n\u001b[0;32m   4270\u001b[0m     \u001b[38;5;28mself\u001b[39m\u001b[38;5;241m.\u001b[39m_update_inplace(obj)\n",
      "File \u001b[1;32m~\\anaconda3\\lib\\site-packages\\pandas\\core\\generic.py:4311\u001b[0m, in \u001b[0;36mNDFrame._drop_axis\u001b[1;34m(self, labels, axis, level, errors, consolidate, only_slice)\u001b[0m\n\u001b[0;32m   4309\u001b[0m         new_axis \u001b[38;5;241m=\u001b[39m axis\u001b[38;5;241m.\u001b[39mdrop(labels, level\u001b[38;5;241m=\u001b[39mlevel, errors\u001b[38;5;241m=\u001b[39merrors)\n\u001b[0;32m   4310\u001b[0m     \u001b[38;5;28;01melse\u001b[39;00m:\n\u001b[1;32m-> 4311\u001b[0m         new_axis \u001b[38;5;241m=\u001b[39m \u001b[43maxis\u001b[49m\u001b[38;5;241;43m.\u001b[39;49m\u001b[43mdrop\u001b[49m\u001b[43m(\u001b[49m\u001b[43mlabels\u001b[49m\u001b[43m,\u001b[49m\u001b[43m \u001b[49m\u001b[43merrors\u001b[49m\u001b[38;5;241;43m=\u001b[39;49m\u001b[43merrors\u001b[49m\u001b[43m)\u001b[49m\n\u001b[0;32m   4312\u001b[0m     indexer \u001b[38;5;241m=\u001b[39m axis\u001b[38;5;241m.\u001b[39mget_indexer(new_axis)\n\u001b[0;32m   4314\u001b[0m \u001b[38;5;66;03m# Case for non-unique axis\u001b[39;00m\n\u001b[0;32m   4315\u001b[0m \u001b[38;5;28;01melse\u001b[39;00m:\n",
      "File \u001b[1;32m~\\anaconda3\\lib\\site-packages\\pandas\\core\\indexes\\base.py:6644\u001b[0m, in \u001b[0;36mIndex.drop\u001b[1;34m(self, labels, errors)\u001b[0m\n\u001b[0;32m   6642\u001b[0m \u001b[38;5;28;01mif\u001b[39;00m mask\u001b[38;5;241m.\u001b[39many():\n\u001b[0;32m   6643\u001b[0m     \u001b[38;5;28;01mif\u001b[39;00m errors \u001b[38;5;241m!=\u001b[39m \u001b[38;5;124m\"\u001b[39m\u001b[38;5;124mignore\u001b[39m\u001b[38;5;124m\"\u001b[39m:\n\u001b[1;32m-> 6644\u001b[0m         \u001b[38;5;28;01mraise\u001b[39;00m \u001b[38;5;167;01mKeyError\u001b[39;00m(\u001b[38;5;124mf\u001b[39m\u001b[38;5;124m\"\u001b[39m\u001b[38;5;132;01m{\u001b[39;00m\u001b[38;5;28mlist\u001b[39m(labels[mask])\u001b[38;5;132;01m}\u001b[39;00m\u001b[38;5;124m not found in axis\u001b[39m\u001b[38;5;124m\"\u001b[39m)\n\u001b[0;32m   6645\u001b[0m     indexer \u001b[38;5;241m=\u001b[39m indexer[\u001b[38;5;241m~\u001b[39mmask]\n\u001b[0;32m   6646\u001b[0m \u001b[38;5;28;01mreturn\u001b[39;00m \u001b[38;5;28mself\u001b[39m\u001b[38;5;241m.\u001b[39mdelete(indexer)\n",
      "\u001b[1;31mKeyError\u001b[0m: \"['CAL_YR', 'CAL_QTR', 'ACCIDENT_TIME', 'FIPS_STATE_CD'] not found in axis\""
     ]
    }
   ],
   "source": [
    "new_df1.drop(['CAL_YR', 'CAL_QTR','ACCIDENT_TIME','FIPS_STATE_CD'],axis=1,inplace=True)"
   ]
  },
  {
   "cell_type": "code",
   "execution_count": 77,
   "id": "dda05a4a",
   "metadata": {},
   "outputs": [
    {
     "data": {
      "text/plain": [
       "Index(['SUBUNIT_CD', 'DEGREE_INJURY_CD', 'UG_LOCATION_CD',\n",
       "       'UG_MINING_METHOD_CD', 'MINING_EQUIP_CD', 'NO_INJURIES', 'TOT_EXPER',\n",
       "       'MINE_EXPER', 'JOB_EXPER', 'OCCUPATION_CD', 'ACTIVITY_CD',\n",
       "       'INJURY_SOURCE_CD', 'NATURE_INJURY_CD', 'INJ_BODY_PART_CD',\n",
       "       'DAYS_RESTRICT', 'COAL_METAL_IND', 'CLASSIFICATION', 'UG_LOCATION_CD ',\n",
       "       'Duration'],\n",
       "      dtype='object')"
      ]
     },
     "execution_count": 77,
     "metadata": {},
     "output_type": "execute_result"
    }
   ],
   "source": [
    "new_df1.columns"
   ]
  },
  {
   "cell_type": "code",
   "execution_count": 61,
   "id": "1dd27786",
   "metadata": {},
   "outputs": [],
   "source": [
    "new_df1['ACCIDENT_DT'] = pd.to_datetime(new_df1['ACCIDENT_DT'])"
   ]
  },
  {
   "cell_type": "code",
   "execution_count": 62,
   "id": "f3e98b7d",
   "metadata": {},
   "outputs": [],
   "source": [
    "new_df1['ACCIDENT_DT'] = new_df1['ACCIDENT_DT'] .astype('datetime64[ns]')"
   ]
  },
  {
   "cell_type": "code",
   "execution_count": 63,
   "id": "f612415d",
   "metadata": {},
   "outputs": [],
   "source": [
    "new_df1['RETURN_TO_WORK_DT']=new_df1['RETURN_TO_WORK_DT'].astype('datetime64[ns]')"
   ]
  },
  {
   "cell_type": "code",
   "execution_count": 64,
   "id": "c7b907ce",
   "metadata": {},
   "outputs": [],
   "source": [
    "new_df1['Duration']=new_df1['RETURN_TO_WORK_DT']-new_df1['ACCIDENT_DT']"
   ]
  },
  {
   "cell_type": "code",
   "execution_count": 65,
   "id": "293d7e51",
   "metadata": {},
   "outputs": [],
   "source": [
    "new_df1.drop(['ACCIDENT_DT','RETURN_TO_WORK_DT'],axis=1,inplace=True)"
   ]
  },
  {
   "cell_type": "code",
   "execution_count": 83,
   "id": "d81bff8d",
   "metadata": {},
   "outputs": [
    {
     "data": {
      "text/html": [
       "<div>\n",
       "<style scoped>\n",
       "    .dataframe tbody tr th:only-of-type {\n",
       "        vertical-align: middle;\n",
       "    }\n",
       "\n",
       "    .dataframe tbody tr th {\n",
       "        vertical-align: top;\n",
       "    }\n",
       "\n",
       "    .dataframe thead th {\n",
       "        text-align: right;\n",
       "    }\n",
       "</style>\n",
       "<table border=\"1\" class=\"dataframe\">\n",
       "  <thead>\n",
       "    <tr style=\"text-align: right;\">\n",
       "      <th></th>\n",
       "      <th>SUBUNIT_CD</th>\n",
       "      <th>DEGREE_INJURY_CD</th>\n",
       "      <th>UG_LOCATION_CD</th>\n",
       "      <th>UG_MINING_METHOD_CD</th>\n",
       "      <th>MINING_EQUIP_CD</th>\n",
       "      <th>NO_INJURIES</th>\n",
       "      <th>TOT_EXPER</th>\n",
       "      <th>MINE_EXPER</th>\n",
       "      <th>JOB_EXPER</th>\n",
       "      <th>OCCUPATION_CD</th>\n",
       "      <th>ACTIVITY_CD</th>\n",
       "      <th>INJURY_SOURCE_CD</th>\n",
       "      <th>NATURE_INJURY_CD</th>\n",
       "      <th>INJ_BODY_PART_CD</th>\n",
       "      <th>DAYS_RESTRICT</th>\n",
       "      <th>COAL_METAL_IND</th>\n",
       "      <th>CLASSIFICATION</th>\n",
       "      <th>Duration</th>\n",
       "    </tr>\n",
       "  </thead>\n",
       "  <tbody>\n",
       "    <tr>\n",
       "      <th>19</th>\n",
       "      <td>1</td>\n",
       "      <td>6</td>\n",
       "      <td>4</td>\n",
       "      <td>5</td>\n",
       "      <td>61</td>\n",
       "      <td>1</td>\n",
       "      <td>9.00</td>\n",
       "      <td>7.00</td>\n",
       "      <td>7.00</td>\n",
       "      <td>104</td>\n",
       "      <td>39</td>\n",
       "      <td>88</td>\n",
       "      <td>220</td>\n",
       "      <td>340</td>\n",
       "      <td>0</td>\n",
       "      <td>C</td>\n",
       "      <td>HANDLING OF MATERIALS</td>\n",
       "      <td>1</td>\n",
       "    </tr>\n",
       "    <tr>\n",
       "      <th>20</th>\n",
       "      <td>1</td>\n",
       "      <td>6</td>\n",
       "      <td>6</td>\n",
       "      <td>5</td>\n",
       "      <td>66</td>\n",
       "      <td>1</td>\n",
       "      <td>10.00</td>\n",
       "      <td>5.00</td>\n",
       "      <td>4.00</td>\n",
       "      <td>462</td>\n",
       "      <td>28</td>\n",
       "      <td>109</td>\n",
       "      <td>180</td>\n",
       "      <td>340</td>\n",
       "      <td>0</td>\n",
       "      <td>C</td>\n",
       "      <td>HANDLING OF MATERIALS</td>\n",
       "      <td>2</td>\n",
       "    </tr>\n",
       "    <tr>\n",
       "      <th>45</th>\n",
       "      <td>1</td>\n",
       "      <td>5</td>\n",
       "      <td>4</td>\n",
       "      <td>5</td>\n",
       "      <td>13</td>\n",
       "      <td>1</td>\n",
       "      <td>10.00</td>\n",
       "      <td>1.00</td>\n",
       "      <td>4.00</td>\n",
       "      <td>2</td>\n",
       "      <td>28</td>\n",
       "      <td>35</td>\n",
       "      <td>160</td>\n",
       "      <td>330</td>\n",
       "      <td>4</td>\n",
       "      <td>C</td>\n",
       "      <td>HANDLING OF MATERIALS</td>\n",
       "      <td>5</td>\n",
       "    </tr>\n",
       "    <tr>\n",
       "      <th>66</th>\n",
       "      <td>1</td>\n",
       "      <td>3</td>\n",
       "      <td>5</td>\n",
       "      <td>5</td>\n",
       "      <td>13</td>\n",
       "      <td>1</td>\n",
       "      <td>3.00</td>\n",
       "      <td>1.50</td>\n",
       "      <td>2.50</td>\n",
       "      <td>46</td>\n",
       "      <td>41</td>\n",
       "      <td>35</td>\n",
       "      <td>330</td>\n",
       "      <td>450</td>\n",
       "      <td>0</td>\n",
       "      <td>C</td>\n",
       "      <td>HANDLING OF MATERIALS</td>\n",
       "      <td>194</td>\n",
       "    </tr>\n",
       "    <tr>\n",
       "      <th>108</th>\n",
       "      <td>1</td>\n",
       "      <td>6</td>\n",
       "      <td>2</td>\n",
       "      <td>5</td>\n",
       "      <td>13</td>\n",
       "      <td>1</td>\n",
       "      <td>2.46</td>\n",
       "      <td>2.46</td>\n",
       "      <td>2.46</td>\n",
       "      <td>101</td>\n",
       "      <td>39</td>\n",
       "      <td>35</td>\n",
       "      <td>220</td>\n",
       "      <td>340</td>\n",
       "      <td>0</td>\n",
       "      <td>C</td>\n",
       "      <td>HANDLING OF MATERIALS</td>\n",
       "      <td>1</td>\n",
       "    </tr>\n",
       "    <tr>\n",
       "      <th>...</th>\n",
       "      <td>...</td>\n",
       "      <td>...</td>\n",
       "      <td>...</td>\n",
       "      <td>...</td>\n",
       "      <td>...</td>\n",
       "      <td>...</td>\n",
       "      <td>...</td>\n",
       "      <td>...</td>\n",
       "      <td>...</td>\n",
       "      <td>...</td>\n",
       "      <td>...</td>\n",
       "      <td>...</td>\n",
       "      <td>...</td>\n",
       "      <td>...</td>\n",
       "      <td>...</td>\n",
       "      <td>...</td>\n",
       "      <td>...</td>\n",
       "      <td>...</td>\n",
       "    </tr>\n",
       "    <tr>\n",
       "      <th>35530</th>\n",
       "      <td>1</td>\n",
       "      <td>3</td>\n",
       "      <td>3</td>\n",
       "      <td>5</td>\n",
       "      <td>33</td>\n",
       "      <td>1</td>\n",
       "      <td>35.00</td>\n",
       "      <td>3.00</td>\n",
       "      <td>12.00</td>\n",
       "      <td>250</td>\n",
       "      <td>23</td>\n",
       "      <td>108</td>\n",
       "      <td>330</td>\n",
       "      <td>420</td>\n",
       "      <td>0</td>\n",
       "      <td>C</td>\n",
       "      <td>OTHER</td>\n",
       "      <td>182</td>\n",
       "    </tr>\n",
       "    <tr>\n",
       "      <th>35559</th>\n",
       "      <td>1</td>\n",
       "      <td>4</td>\n",
       "      <td>6</td>\n",
       "      <td>5</td>\n",
       "      <td>12</td>\n",
       "      <td>1</td>\n",
       "      <td>7.00</td>\n",
       "      <td>1.92</td>\n",
       "      <td>2.00</td>\n",
       "      <td>104</td>\n",
       "      <td>39</td>\n",
       "      <td>2</td>\n",
       "      <td>330</td>\n",
       "      <td>512</td>\n",
       "      <td>6</td>\n",
       "      <td>C</td>\n",
       "      <td>OTHER</td>\n",
       "      <td>56</td>\n",
       "    </tr>\n",
       "    <tr>\n",
       "      <th>35700</th>\n",
       "      <td>1</td>\n",
       "      <td>3</td>\n",
       "      <td>3</td>\n",
       "      <td>5</td>\n",
       "      <td>12</td>\n",
       "      <td>1</td>\n",
       "      <td>30.00</td>\n",
       "      <td>2.46</td>\n",
       "      <td>9.00</td>\n",
       "      <td>102</td>\n",
       "      <td>28</td>\n",
       "      <td>2</td>\n",
       "      <td>330</td>\n",
       "      <td>512</td>\n",
       "      <td>0</td>\n",
       "      <td>C</td>\n",
       "      <td>OTHER</td>\n",
       "      <td>102</td>\n",
       "    </tr>\n",
       "    <tr>\n",
       "      <th>35764</th>\n",
       "      <td>1</td>\n",
       "      <td>3</td>\n",
       "      <td>4</td>\n",
       "      <td>8</td>\n",
       "      <td>65</td>\n",
       "      <td>1</td>\n",
       "      <td>19.00</td>\n",
       "      <td>9.46</td>\n",
       "      <td>9.46</td>\n",
       "      <td>116</td>\n",
       "      <td>92</td>\n",
       "      <td>81</td>\n",
       "      <td>160</td>\n",
       "      <td>512</td>\n",
       "      <td>0</td>\n",
       "      <td>C</td>\n",
       "      <td>OTHER</td>\n",
       "      <td>139</td>\n",
       "    </tr>\n",
       "    <tr>\n",
       "      <th>35780</th>\n",
       "      <td>1</td>\n",
       "      <td>6</td>\n",
       "      <td>2</td>\n",
       "      <td>5</td>\n",
       "      <td>61</td>\n",
       "      <td>1</td>\n",
       "      <td>39.21</td>\n",
       "      <td>2.33</td>\n",
       "      <td>12.15</td>\n",
       "      <td>50</td>\n",
       "      <td>69</td>\n",
       "      <td>2</td>\n",
       "      <td>330</td>\n",
       "      <td>440</td>\n",
       "      <td>0</td>\n",
       "      <td>C</td>\n",
       "      <td>OTHER</td>\n",
       "      <td>3</td>\n",
       "    </tr>\n",
       "  </tbody>\n",
       "</table>\n",
       "<p>7352 rows × 18 columns</p>\n",
       "</div>"
      ],
      "text/plain": [
       "       SUBUNIT_CD  DEGREE_INJURY_CD  UG_LOCATION_CD  UG_MINING_METHOD_CD  \\\n",
       "19              1                 6               4                    5   \n",
       "20              1                 6               6                    5   \n",
       "45              1                 5               4                    5   \n",
       "66              1                 3               5                    5   \n",
       "108             1                 6               2                    5   \n",
       "...           ...               ...             ...                  ...   \n",
       "35530           1                 3               3                    5   \n",
       "35559           1                 4               6                    5   \n",
       "35700           1                 3               3                    5   \n",
       "35764           1                 3               4                    8   \n",
       "35780           1                 6               2                    5   \n",
       "\n",
       "       MINING_EQUIP_CD  NO_INJURIES  TOT_EXPER  MINE_EXPER  JOB_EXPER  \\\n",
       "19                  61            1       9.00        7.00       7.00   \n",
       "20                  66            1      10.00        5.00       4.00   \n",
       "45                  13            1      10.00        1.00       4.00   \n",
       "66                  13            1       3.00        1.50       2.50   \n",
       "108                 13            1       2.46        2.46       2.46   \n",
       "...                ...          ...        ...         ...        ...   \n",
       "35530               33            1      35.00        3.00      12.00   \n",
       "35559               12            1       7.00        1.92       2.00   \n",
       "35700               12            1      30.00        2.46       9.00   \n",
       "35764               65            1      19.00        9.46       9.46   \n",
       "35780               61            1      39.21        2.33      12.15   \n",
       "\n",
       "       OCCUPATION_CD  ACTIVITY_CD  INJURY_SOURCE_CD  NATURE_INJURY_CD  \\\n",
       "19               104           39                88               220   \n",
       "20               462           28               109               180   \n",
       "45                 2           28                35               160   \n",
       "66                46           41                35               330   \n",
       "108              101           39                35               220   \n",
       "...              ...          ...               ...               ...   \n",
       "35530            250           23               108               330   \n",
       "35559            104           39                 2               330   \n",
       "35700            102           28                 2               330   \n",
       "35764            116           92                81               160   \n",
       "35780             50           69                 2               330   \n",
       "\n",
       "      INJ_BODY_PART_CD  DAYS_RESTRICT COAL_METAL_IND         CLASSIFICATION  \\\n",
       "19                 340              0              C  HANDLING OF MATERIALS   \n",
       "20                 340              0              C  HANDLING OF MATERIALS   \n",
       "45                 330              4              C  HANDLING OF MATERIALS   \n",
       "66                 450              0              C  HANDLING OF MATERIALS   \n",
       "108                340              0              C  HANDLING OF MATERIALS   \n",
       "...                ...            ...            ...                    ...   \n",
       "35530              420              0              C                  OTHER   \n",
       "35559              512              6              C                  OTHER   \n",
       "35700              512              0              C                  OTHER   \n",
       "35764              512              0              C                  OTHER   \n",
       "35780              440              0              C                  OTHER   \n",
       "\n",
       "      Duration  \n",
       "19           1  \n",
       "20           2  \n",
       "45           5  \n",
       "66         194  \n",
       "108          1  \n",
       "...        ...  \n",
       "35530      182  \n",
       "35559       56  \n",
       "35700      102  \n",
       "35764      139  \n",
       "35780        3  \n",
       "\n",
       "[7352 rows x 18 columns]"
      ]
     },
     "execution_count": 83,
     "metadata": {},
     "output_type": "execute_result"
    }
   ],
   "source": [
    "new_df1"
   ]
  },
  {
   "cell_type": "markdown",
   "id": "c77da479",
   "metadata": {},
   "source": [
    "Here we can see that accident type and injury_source almost tell us the same information, Instead we can use either of the columns.Hence we can drop Accident type."
   ]
  },
  {
   "cell_type": "code",
   "execution_count": 67,
   "id": "8a2a481d",
   "metadata": {},
   "outputs": [],
   "source": [
    "new_df1.drop('ACCIDENT_TYPE',axis=1,inplace=True)"
   ]
  },
  {
   "cell_type": "code",
   "execution_count": 68,
   "id": "c0d778d4",
   "metadata": {},
   "outputs": [],
   "source": [
    "new_df1['UG_MINING_METHOD_CD']=new_df1['UG_MINING_METHOD_CD'].astype(int)"
   ]
  },
  {
   "cell_type": "code",
   "execution_count": 80,
   "id": "9f123b03",
   "metadata": {},
   "outputs": [],
   "source": [
    "new_df1.drop(['UG_LOCATION_CD '],axis=1,inplace=True)"
   ]
  },
  {
   "cell_type": "code",
   "execution_count": 69,
   "id": "e38e97d9",
   "metadata": {},
   "outputs": [],
   "source": [
    "new_df1['Duration']=new_df1['Duration'].astype('string')"
   ]
  },
  {
   "cell_type": "code",
   "execution_count": 81,
   "id": "75e58bfa",
   "metadata": {},
   "outputs": [],
   "source": [
    "new_df1['Duration']=new_df1['Duration'].str.split(\" \").str[0]"
   ]
  },
  {
   "cell_type": "code",
   "execution_count": 82,
   "id": "55e6f3a7",
   "metadata": {},
   "outputs": [
    {
     "data": {
      "text/plain": [
       "19         1\n",
       "20         2\n",
       "45         5\n",
       "66       194\n",
       "108        1\n",
       "        ... \n",
       "35530    182\n",
       "35559     56\n",
       "35700    102\n",
       "35764    139\n",
       "35780      3\n",
       "Name: Duration_days, Length: 7352, dtype: object"
      ]
     },
     "execution_count": 82,
     "metadata": {},
     "output_type": "execute_result"
    }
   ],
   "source": [
    "new_df1['Duration'].rename('Duration_days',inplace=True)"
   ]
  },
  {
   "cell_type": "code",
   "execution_count": 84,
   "id": "0bcbcda3",
   "metadata": {},
   "outputs": [
    {
     "name": "stdout",
     "output_type": "stream",
     "text": [
      "<class 'pandas.core.frame.DataFrame'>\n",
      "Int64Index: 7352 entries, 19 to 35780\n",
      "Data columns (total 18 columns):\n",
      " #   Column               Non-Null Count  Dtype  \n",
      "---  ------               --------------  -----  \n",
      " 0   SUBUNIT_CD           7352 non-null   int64  \n",
      " 1   DEGREE_INJURY_CD     7352 non-null   int32  \n",
      " 2   UG_LOCATION_CD       7352 non-null   int32  \n",
      " 3   UG_MINING_METHOD_CD  7352 non-null   int32  \n",
      " 4   MINING_EQUIP_CD      7352 non-null   int32  \n",
      " 5   NO_INJURIES          7352 non-null   int64  \n",
      " 6   TOT_EXPER            7352 non-null   float64\n",
      " 7   MINE_EXPER           7352 non-null   float64\n",
      " 8   JOB_EXPER            7352 non-null   float64\n",
      " 9   OCCUPATION_CD        7352 non-null   int32  \n",
      " 10  ACTIVITY_CD          7352 non-null   int32  \n",
      " 11  INJURY_SOURCE_CD     7352 non-null   int32  \n",
      " 12  NATURE_INJURY_CD     7352 non-null   int32  \n",
      " 13  INJ_BODY_PART_CD     7352 non-null   object \n",
      " 14  DAYS_RESTRICT        7352 non-null   int32  \n",
      " 15  COAL_METAL_IND       7352 non-null   object \n",
      " 16  CLASSIFICATION       7352 non-null   object \n",
      " 17  Duration             7352 non-null   object \n",
      "dtypes: float64(3), int32(9), int64(2), object(4)\n",
      "memory usage: 832.8+ KB\n"
     ]
    }
   ],
   "source": [
    "new_df1.info()"
   ]
  },
  {
   "cell_type": "code",
   "execution_count": 85,
   "id": "8b6b98d7",
   "metadata": {},
   "outputs": [],
   "source": [
    "new_df3=new_df1"
   ]
  },
  {
   "cell_type": "code",
   "execution_count": 86,
   "id": "40088b01",
   "metadata": {},
   "outputs": [
    {
     "data": {
      "text/html": [
       "<div>\n",
       "<style scoped>\n",
       "    .dataframe tbody tr th:only-of-type {\n",
       "        vertical-align: middle;\n",
       "    }\n",
       "\n",
       "    .dataframe tbody tr th {\n",
       "        vertical-align: top;\n",
       "    }\n",
       "\n",
       "    .dataframe thead th {\n",
       "        text-align: right;\n",
       "    }\n",
       "</style>\n",
       "<table border=\"1\" class=\"dataframe\">\n",
       "  <thead>\n",
       "    <tr style=\"text-align: right;\">\n",
       "      <th></th>\n",
       "      <th>C</th>\n",
       "      <th>M</th>\n",
       "    </tr>\n",
       "  </thead>\n",
       "  <tbody>\n",
       "    <tr>\n",
       "      <th>19</th>\n",
       "      <td>1</td>\n",
       "      <td>0</td>\n",
       "    </tr>\n",
       "    <tr>\n",
       "      <th>20</th>\n",
       "      <td>1</td>\n",
       "      <td>0</td>\n",
       "    </tr>\n",
       "    <tr>\n",
       "      <th>45</th>\n",
       "      <td>1</td>\n",
       "      <td>0</td>\n",
       "    </tr>\n",
       "    <tr>\n",
       "      <th>66</th>\n",
       "      <td>1</td>\n",
       "      <td>0</td>\n",
       "    </tr>\n",
       "    <tr>\n",
       "      <th>108</th>\n",
       "      <td>1</td>\n",
       "      <td>0</td>\n",
       "    </tr>\n",
       "    <tr>\n",
       "      <th>...</th>\n",
       "      <td>...</td>\n",
       "      <td>...</td>\n",
       "    </tr>\n",
       "    <tr>\n",
       "      <th>35530</th>\n",
       "      <td>1</td>\n",
       "      <td>0</td>\n",
       "    </tr>\n",
       "    <tr>\n",
       "      <th>35559</th>\n",
       "      <td>1</td>\n",
       "      <td>0</td>\n",
       "    </tr>\n",
       "    <tr>\n",
       "      <th>35700</th>\n",
       "      <td>1</td>\n",
       "      <td>0</td>\n",
       "    </tr>\n",
       "    <tr>\n",
       "      <th>35764</th>\n",
       "      <td>1</td>\n",
       "      <td>0</td>\n",
       "    </tr>\n",
       "    <tr>\n",
       "      <th>35780</th>\n",
       "      <td>1</td>\n",
       "      <td>0</td>\n",
       "    </tr>\n",
       "  </tbody>\n",
       "</table>\n",
       "<p>7352 rows × 2 columns</p>\n",
       "</div>"
      ],
      "text/plain": [
       "       C  M\n",
       "19     1  0\n",
       "20     1  0\n",
       "45     1  0\n",
       "66     1  0\n",
       "108    1  0\n",
       "...   .. ..\n",
       "35530  1  0\n",
       "35559  1  0\n",
       "35700  1  0\n",
       "35764  1  0\n",
       "35780  1  0\n",
       "\n",
       "[7352 rows x 2 columns]"
      ]
     },
     "execution_count": 86,
     "metadata": {},
     "output_type": "execute_result"
    }
   ],
   "source": [
    "dummies=pd.get_dummies(new_df3.COAL_METAL_IND)\n",
    "dummies\n"
   ]
  },
  {
   "cell_type": "code",
   "execution_count": 87,
   "id": "67e87c44",
   "metadata": {},
   "outputs": [],
   "source": [
    "new_df3=pd.concat([new_df3,dummies],axis='columns')"
   ]
  },
  {
   "cell_type": "code",
   "execution_count": 88,
   "id": "3b6f54bf",
   "metadata": {},
   "outputs": [],
   "source": [
    "new_df3.drop(['COAL_METAL_IND','M'],axis=1,inplace=True)"
   ]
  },
  {
   "cell_type": "code",
   "execution_count": 89,
   "id": "f082be7d",
   "metadata": {},
   "outputs": [],
   "source": [
    "x_df=new_df3.drop(['CLASSIFICATION'],axis=1)\n",
    "y_df=new_df3['CLASSIFICATION']\n",
    "\n",
    "from sklearn.model_selection import train_test_split\n",
    "X_train,X_test,Y_train,Y_test=train_test_split(x_df,y_df,test_size=0.3,random_state=50)"
   ]
  },
  {
   "cell_type": "code",
   "execution_count": 90,
   "id": "348785f3",
   "metadata": {},
   "outputs": [],
   "source": [
    "from sklearn.feature_selection import mutual_info_classif\n",
    "mutual_info=mutual_info_classif(X_train,Y_train)"
   ]
  },
  {
   "cell_type": "code",
   "execution_count": 91,
   "id": "1ed1e9f7",
   "metadata": {},
   "outputs": [
    {
     "data": {
      "text/plain": [
       "array([0.01186095, 0.02162982, 0.03979261, 0.0062402 , 0.39656781,\n",
       "       0.01895414, 0.        , 0.00545223, 0.00557951, 0.07422616,\n",
       "       0.44342323, 0.40289842, 0.11217516, 0.12186059, 0.        ,\n",
       "       0.03929818, 0.01306991])"
      ]
     },
     "execution_count": 91,
     "metadata": {},
     "output_type": "execute_result"
    }
   ],
   "source": [
    "mutual_info"
   ]
  },
  {
   "cell_type": "code",
   "execution_count": 92,
   "id": "13977326",
   "metadata": {},
   "outputs": [
    {
     "data": {
      "text/plain": [
       "ACTIVITY_CD            0.443423\n",
       "INJURY_SOURCE_CD       0.402898\n",
       "MINING_EQUIP_CD        0.396568\n",
       "INJ_BODY_PART_CD       0.121861\n",
       "NATURE_INJURY_CD       0.112175\n",
       "OCCUPATION_CD          0.074226\n",
       "UG_LOCATION_CD         0.039793\n",
       "Duration               0.039298\n",
       "DEGREE_INJURY_CD       0.021630\n",
       "NO_INJURIES            0.018954\n",
       "C                      0.013070\n",
       "SUBUNIT_CD             0.011861\n",
       "UG_MINING_METHOD_CD    0.006240\n",
       "JOB_EXPER              0.005580\n",
       "MINE_EXPER             0.005452\n",
       "TOT_EXPER              0.000000\n",
       "DAYS_RESTRICT          0.000000\n",
       "dtype: float64"
      ]
     },
     "execution_count": 92,
     "metadata": {},
     "output_type": "execute_result"
    }
   ],
   "source": [
    "mutual_info=pd.Series(mutual_info)\n",
    "mutual_info.index=X_train.columns\n",
    "mutual_info.sort_values(ascending=False)"
   ]
  },
  {
   "cell_type": "code",
   "execution_count": 93,
   "id": "d747c16b",
   "metadata": {},
   "outputs": [
    {
     "data": {
      "text/plain": [
       "<AxesSubplot:>"
      ]
     },
     "execution_count": 93,
     "metadata": {},
     "output_type": "execute_result"
    },
    {
     "data": {
      "image/png": "[encoded data removed]",
      "text/plain": [
       "<Figure size 1440x576 with 1 Axes>"
      ]
     },
     "metadata": {
      "needs_background": "light"
     },
     "output_type": "display_data"
    }
   ],
   "source": [
    "mutual_info.sort_values(ascending=False).plot.bar(figsize=(20,8))"
   ]
  },
  {
   "cell_type": "markdown",
   "id": "6f4c88df",
   "metadata": {},
   "source": [
    "let us take the top 12 features into account \n",
    "These are :\n",
    "    1.Activity_CD\n",
    "    2.Injury_Source\n",
    "    3.Mining_equipment\n",
    "    4.INJ_BODY_PART\n",
    "    5. NATURE_INJURY\n",
    "    6.DURATION\n",
    "    7.UG_LOCATION\n",
    "    8.UG_MINING_METHOD\n",
    "    9.SUB_UNIT_CD_\n",
    "    10.COL_METAL_IND_C\n",
    "    11.NO_INJURIES\n",
    "    12.TOTAL_EXPERIENCE\n",
    "    "
   ]
  },
  {
   "cell_type": "code",
   "execution_count": 94,
   "id": "9d0db4a4",
   "metadata": {},
   "outputs": [
    {
     "data": {
      "text/plain": [
       "<AxesSubplot:>"
      ]
     },
     "execution_count": 94,
     "metadata": {},
     "output_type": "execute_result"
    },
    {
     "data": {
      "image/png": "[encoded data removed]",
      "text/plain": [
       "<Figure size 864x720 with 2 Axes>"
      ]
     },
     "metadata": {
      "needs_background": "light"
     },
     "output_type": "display_data"
    }
   ],
   "source": [
    "plt.figure(figsize=(12,10))\n",
    "#Using Pearson Correlation\n",
    "cor=X_train.corr()\n",
    "sbn.heatmap(cor,annot=True,cmap=plt.cm.CMRmap_r)"
   ]
  },
  {
   "cell_type": "code",
   "execution_count": 95,
   "id": "f11acd3b",
   "metadata": {},
   "outputs": [],
   "source": [
    "def correlation(dataset,thres):\n",
    "    col_corr=set()\n",
    "    corr_matrix=dataset.corr()\n",
    "    for i in range(len(corr_matrix.columns)):\n",
    "        for j in range(i):\n",
    "            if abs(corr_matrix.iloc[i,j])>thres:\n",
    "                colname=corr_matrix.columns[i]\n",
    "                col_corr.add(colname)\n",
    "    return col_corr"
   ]
  },
  {
   "cell_type": "code",
   "execution_count": 96,
   "id": "75906f57",
   "metadata": {},
   "outputs": [
    {
     "data": {
      "text/plain": [
       "{'ACTIVITY_CD', 'JOB_EXPER'}"
      ]
     },
     "execution_count": 96,
     "metadata": {},
     "output_type": "execute_result"
    }
   ],
   "source": [
    "corr_features=correlation(X_train,0.5)\n",
    "corr_features\n"
   ]
  },
  {
   "cell_type": "markdown",
   "id": "bf285c43",
   "metadata": {},
   "source": [
    "Therefore we can drop Coal_METAL_IND_M ,JOB_EXPERIENCE,UG_MIning_method"
   ]
  },
  {
   "cell_type": "code",
   "execution_count": 97,
   "id": "e90f5ecf",
   "metadata": {},
   "outputs": [
    {
     "data": {
      "text/plain": [
       "Index(['SUBUNIT_CD', 'DEGREE_INJURY_CD', 'UG_LOCATION_CD',\n",
       "       'UG_MINING_METHOD_CD', 'MINING_EQUIP_CD', 'NO_INJURIES', 'TOT_EXPER',\n",
       "       'MINE_EXPER', 'JOB_EXPER', 'OCCUPATION_CD', 'ACTIVITY_CD',\n",
       "       'INJURY_SOURCE_CD', 'NATURE_INJURY_CD', 'INJ_BODY_PART_CD',\n",
       "       'DAYS_RESTRICT', 'CLASSIFICATION', 'Duration', 'C'],\n",
       "      dtype='object')"
      ]
     },
     "execution_count": 97,
     "metadata": {},
     "output_type": "execute_result"
    }
   ],
   "source": [
    "new_df3.columns"
   ]
  },
  {
   "cell_type": "code",
   "execution_count": 98,
   "id": "6fec201d",
   "metadata": {},
   "outputs": [
    {
     "data": {
      "text/plain": [
       "<AxesSubplot:>"
      ]
     },
     "execution_count": 98,
     "metadata": {},
     "output_type": "execute_result"
    },
    {
     "data": {
      "image/png": "[encoded data removed]",
      "text/plain": [
       "<Figure size 1440x576 with 1 Axes>"
      ]
     },
     "metadata": {
      "needs_background": "light"
     },
     "output_type": "display_data"
    }
   ],
   "source": [
    "mutual_info.sort_values(ascending=False).plot.bar(figsize=(20,8))"
   ]
  },
  {
   "cell_type": "code",
   "execution_count": 99,
   "id": "6d17a6cf",
   "metadata": {},
   "outputs": [],
   "source": [
    "new_df4=new_df3.drop(['DEGREE_INJURY_CD', 'UG_LOCATION_CD', 'MINE_EXPER','Duration', 'C'],axis=1)\n"
   ]
  },
  {
   "cell_type": "code",
   "execution_count": 100,
   "id": "764aec72",
   "metadata": {},
   "outputs": [],
   "source": [
    "x1_df=new_df4.drop(['CLASSIFICATION'],axis=1)\n",
    "y1_df=new_df4['CLASSIFICATION']"
   ]
  },
  {
   "cell_type": "code",
   "execution_count": 101,
   "id": "a43f9515",
   "metadata": {},
   "outputs": [
    {
     "data": {
      "text/plain": [
       "Index(['SUBUNIT_CD', 'UG_MINING_METHOD_CD', 'MINING_EQUIP_CD', 'NO_INJURIES',\n",
       "       'TOT_EXPER', 'JOB_EXPER', 'OCCUPATION_CD', 'ACTIVITY_CD',\n",
       "       'INJURY_SOURCE_CD', 'NATURE_INJURY_CD', 'INJ_BODY_PART_CD',\n",
       "       'DAYS_RESTRICT'],\n",
       "      dtype='object')"
      ]
     },
     "execution_count": 101,
     "metadata": {},
     "output_type": "execute_result"
    }
   ],
   "source": [
    "x1_df.columns"
   ]
  },
  {
   "cell_type": "code",
   "execution_count": 102,
   "id": "1466438d",
   "metadata": {},
   "outputs": [],
   "source": [
    "x2_df=x1_df.drop(['SUBUNIT_CD', 'UG_MINING_METHOD_CD','TOT_EXPER', 'JOB_EXPER','DAYS_RESTRICT'],axis=1)"
   ]
  },
  {
   "cell_type": "code",
   "execution_count": 103,
   "id": "8829c870",
   "metadata": {},
   "outputs": [
    {
     "data": {
      "text/plain": [
       "array(['HANDLING OF MATERIALS', 'SLIP OR FALL OF PERSON', 'HAULAGE',\n",
       "       'FIRE/EXPLOSION', 'EXPLOSIVES AND BREAKING AGENTS', 'ELECTRICAL',\n",
       "       'EXPLODING VESSELS UNDER PRESSURE', 'OTHER'], dtype=object)"
      ]
     },
     "execution_count": 103,
     "metadata": {},
     "output_type": "execute_result"
    }
   ],
   "source": [
    "new_df4['CLASSIFICATION'].unique()"
   ]
  },
  {
   "cell_type": "code",
   "execution_count": 163,
   "id": "2d1a2cf3",
   "metadata": {},
   "outputs": [],
   "source": [
    "y1_df=Le.fit_transform(y1_df)"
   ]
  },
  {
   "cell_type": "code",
   "execution_count": 164,
   "id": "152ea089",
   "metadata": {},
   "outputs": [],
   "source": [
    "X1_train,X1_test,Y1_train,Y1_test=train_test_split(x2_df,y1_df,test_size=0.8)"
   ]
  },
  {
   "cell_type": "code",
   "execution_count": 165,
   "id": "e08a6ac9",
   "metadata": {},
   "outputs": [
    {
     "data": {
      "text/plain": [
       "RandomForestClassifier(n_estimators=40)"
      ]
     },
     "execution_count": 165,
     "metadata": {},
     "output_type": "execute_result"
    }
   ],
   "source": [
    "from sklearn.ensemble import RandomForestClassifier\n",
    "model=RandomForestClassifier(n_estimators=40)\n",
    "model.fit(X1_train,Y1_train)"
   ]
  },
  {
   "cell_type": "code",
   "execution_count": 166,
   "id": "52e19a7b",
   "metadata": {},
   "outputs": [
    {
     "data": {
      "text/plain": [
       "0.9105746344780686"
      ]
     },
     "execution_count": 166,
     "metadata": {},
     "output_type": "execute_result"
    }
   ],
   "source": [
    "model.score(X1_test,Y1_test)"
   ]
  },
  {
   "cell_type": "code",
   "execution_count": 199,
   "id": "c2012ac8",
   "metadata": {},
   "outputs": [],
   "source": [
    "from sklearn.model_selection import StratifiedKFold\n",
    "kf=KFold(n_splits=10)"
   ]
  },
  {
   "cell_type": "code",
   "execution_count": 168,
   "id": "c15d7f1e",
   "metadata": {},
   "outputs": [],
   "source": [
    "from sklearn import svm\n",
    "from sklearn.linear_model import LogisticRegression\n",
    "from sklearn.neighbors import KNeighborsClassifier\n",
    "from sklearn.ensemble import AdaBoostClassifier\n",
    "from sklearn.tree import DecisionTreeClassifier\n"
   ]
  },
  {
   "cell_type": "code",
   "execution_count": 169,
   "id": "20ccb8d4",
   "metadata": {},
   "outputs": [
    {
     "name": "stdout",
     "output_type": "stream",
     "text": [
      "Requirement already satisfied: xgboost in c:\\users\\umar1\\anaconda3\\lib\\site-packages (1.7.6)\n",
      "Requirement already satisfied: numpy in c:\\users\\umar1\\anaconda3\\lib\\site-packages (from xgboost) (1.21.5)\n",
      "Requirement already satisfied: scipy in c:\\users\\umar1\\anaconda3\\lib\\site-packages (from xgboost) (1.7.3)\n",
      "Note: you may need to restart the kernel to use updated packages.\n"
     ]
    },
    {
     "name": "stderr",
     "output_type": "stream",
     "text": [
      "WARNING: Ignoring invalid distribution -treamlit (c:\\users\\umar1\\anaconda3\\lib\\site-packages)\n",
      "WARNING: Ignoring invalid distribution -treamlit (c:\\users\\umar1\\anaconda3\\lib\\site-packages)\n",
      "WARNING: Ignoring invalid distribution -treamlit (c:\\users\\umar1\\anaconda3\\lib\\site-packages)\n",
      "WARNING: Ignoring invalid distribution -treamlit (c:\\users\\umar1\\anaconda3\\lib\\site-packages)\n",
      "WARNING: Ignoring invalid distribution -treamlit (c:\\users\\umar1\\anaconda3\\lib\\site-packages)\n",
      "WARNING: Ignoring invalid distribution -treamlit (c:\\users\\umar1\\anaconda3\\lib\\site-packages)\n"
     ]
    }
   ],
   "source": [
    "pip install xgboost"
   ]
  },
  {
   "cell_type": "code",
   "execution_count": 170,
   "id": "bfdc82f7",
   "metadata": {},
   "outputs": [],
   "source": [
    "import xgboost as xgb\n"
   ]
  },
  {
   "cell_type": "code",
   "execution_count": 196,
   "id": "86eefae1",
   "metadata": {},
   "outputs": [
    {
     "data": {
      "text/plain": [
       "[50, 100, 150, 200, 250, 300, 350]"
      ]
     },
     "execution_count": 196,
     "metadata": {},
     "output_type": "execute_result"
    }
   ],
   "source": [
    "n_estimators=list(range(50,400,50))\n",
    "n_estimators"
   ]
  },
  {
   "cell_type": "code",
   "execution_count": 216,
   "id": "f89da774",
   "metadata": {},
   "outputs": [],
   "source": [
    "model_params={\n",
    "    \n",
    "    'random forest':{\n",
    "        'model':RandomForestClassifier(),\n",
    "        'params':{\n",
    "            'n_estimators':[10,20,30,40],\n",
    "            'criterion':['gini', 'entropy', 'log_loss']\n",
    "        }\n",
    "    },\n",
    "    \n",
    "    'KNeighborsClassifier':{\n",
    "        'model':KNeighborsClassifier(),\n",
    "        'params':{\n",
    "            'n_neighbors':[5,10,15,20,30,40]\n",
    "        }\n",
    "    },\n",
    "    'AdaBoostClassifier':{\n",
    "        'model':AdaBoostClassifier(),\n",
    "        'params':{\n",
    "        }\n",
    "    },\n",
    "    'DecisionTreeClassifier':{\n",
    "        'model':DecisionTreeClassifier(),\n",
    "        'params':{\n",
    "            'criterion':['gini', 'entropy', 'log_loss'],\n",
    "        }\n",
    "    },\n",
    "    'XG_boost':{\n",
    "        'model':xgb.XGBClassifier(),\n",
    "        'params':{ \n",
    "            'n_estimators':n_estimators,\n",
    "            'learning_rate':[0.1,0.3,0.5,0.6]\n",
    "            \n",
    "        }\n",
    "    }\n",
    "    \n",
    "}\n",
    "\n"
   ]
  },
  {
   "cell_type": "code",
   "execution_count": 218,
   "id": "c325c65b",
   "metadata": {},
   "outputs": [
    {
     "name": "stderr",
     "output_type": "stream",
     "text": [
      "C:\\Users\\umar1\\anaconda3\\lib\\site-packages\\sklearn\\model_selection\\_split.py:676: UserWarning: The least populated class in y has only 3 members, which is less than n_splits=10.\n",
      "  warnings.warn(\n",
      "C:\\Users\\umar1\\anaconda3\\lib\\site-packages\\sklearn\\model_selection\\_validation.py:372: FitFailedWarning: \n",
      "40 fits failed out of a total of 120.\n",
      "The score on these train-test partitions for these parameters will be set to nan.\n",
      "If these failures are not expected, you can try to debug them by setting error_score='raise'.\n",
      "\n",
      "Below are more details about the failures:\n",
      "--------------------------------------------------------------------------------\n",
      "40 fits failed with the following error:\n",
      "Traceback (most recent call last):\n",
      "  File \"C:\\Users\\umar1\\anaconda3\\lib\\site-packages\\sklearn\\model_selection\\_validation.py\", line 680, in _fit_and_score\n",
      "    estimator.fit(X_train, y_train, **fit_params)\n",
      "  File \"C:\\Users\\umar1\\anaconda3\\lib\\site-packages\\sklearn\\ensemble\\_forest.py\", line 450, in fit\n",
      "    trees = Parallel(\n",
      "  File \"C:\\Users\\umar1\\anaconda3\\lib\\site-packages\\joblib\\parallel.py\", line 1043, in __call__\n",
      "    if self.dispatch_one_batch(iterator):\n",
      "  File \"C:\\Users\\umar1\\anaconda3\\lib\\site-packages\\joblib\\parallel.py\", line 861, in dispatch_one_batch\n",
      "    self._dispatch(tasks)\n",
      "  File \"C:\\Users\\umar1\\anaconda3\\lib\\site-packages\\joblib\\parallel.py\", line 779, in _dispatch\n",
      "    job = self._backend.apply_async(batch, callback=cb)\n",
      "  File \"C:\\Users\\umar1\\anaconda3\\lib\\site-packages\\joblib\\_parallel_backends.py\", line 208, in apply_async\n",
      "    result = ImmediateResult(func)\n",
      "  File \"C:\\Users\\umar1\\anaconda3\\lib\\site-packages\\joblib\\_parallel_backends.py\", line 572, in __init__\n",
      "    self.results = batch()\n",
      "  File \"C:\\Users\\umar1\\anaconda3\\lib\\site-packages\\joblib\\parallel.py\", line 262, in __call__\n",
      "    return [func(*args, **kwargs)\n",
      "  File \"C:\\Users\\umar1\\anaconda3\\lib\\site-packages\\joblib\\parallel.py\", line 262, in <listcomp>\n",
      "    return [func(*args, **kwargs)\n",
      "  File \"C:\\Users\\umar1\\anaconda3\\lib\\site-packages\\sklearn\\utils\\fixes.py\", line 216, in __call__\n",
      "    return self.function(*args, **kwargs)\n",
      "  File \"C:\\Users\\umar1\\anaconda3\\lib\\site-packages\\sklearn\\ensemble\\_forest.py\", line 185, in _parallel_build_trees\n",
      "    tree.fit(X, y, sample_weight=curr_sample_weight, check_input=False)\n",
      "  File \"C:\\Users\\umar1\\anaconda3\\lib\\site-packages\\sklearn\\tree\\_classes.py\", line 937, in fit\n",
      "    super().fit(\n",
      "  File \"C:\\Users\\umar1\\anaconda3\\lib\\site-packages\\sklearn\\tree\\_classes.py\", line 352, in fit\n",
      "    criterion = CRITERIA_CLF[self.criterion](\n",
      "KeyError: 'log_loss'\n",
      "\n",
      "  warnings.warn(some_fits_failed_message, FitFailedWarning)\n",
      "C:\\Users\\umar1\\anaconda3\\lib\\site-packages\\sklearn\\model_selection\\_search.py:969: UserWarning: One or more of the test scores are non-finite: [0.91961402 0.92070172 0.9216541  0.92246968 0.91838934 0.9193421\n",
      " 0.92179015 0.92369491        nan        nan        nan        nan]\n",
      "  warnings.warn(\n",
      "C:\\Users\\umar1\\anaconda3\\lib\\site-packages\\sklearn\\model_selection\\_split.py:676: UserWarning: The least populated class in y has only 3 members, which is less than n_splits=10.\n",
      "  warnings.warn(\n",
      "C:\\Users\\umar1\\anaconda3\\lib\\site-packages\\sklearn\\model_selection\\_split.py:676: UserWarning: The least populated class in y has only 3 members, which is less than n_splits=10.\n",
      "  warnings.warn(\n",
      "C:\\Users\\umar1\\anaconda3\\lib\\site-packages\\sklearn\\model_selection\\_split.py:676: UserWarning: The least populated class in y has only 3 members, which is less than n_splits=10.\n",
      "  warnings.warn(\n",
      "C:\\Users\\umar1\\anaconda3\\lib\\site-packages\\sklearn\\model_selection\\_validation.py:372: FitFailedWarning: \n",
      "10 fits failed out of a total of 30.\n",
      "The score on these train-test partitions for these parameters will be set to nan.\n",
      "If these failures are not expected, you can try to debug them by setting error_score='raise'.\n",
      "\n",
      "Below are more details about the failures:\n",
      "--------------------------------------------------------------------------------\n",
      "10 fits failed with the following error:\n",
      "Traceback (most recent call last):\n",
      "  File \"C:\\Users\\umar1\\anaconda3\\lib\\site-packages\\sklearn\\model_selection\\_validation.py\", line 680, in _fit_and_score\n",
      "    estimator.fit(X_train, y_train, **fit_params)\n",
      "  File \"C:\\Users\\umar1\\anaconda3\\lib\\site-packages\\sklearn\\tree\\_classes.py\", line 937, in fit\n",
      "    super().fit(\n",
      "  File \"C:\\Users\\umar1\\anaconda3\\lib\\site-packages\\sklearn\\tree\\_classes.py\", line 352, in fit\n",
      "    criterion = CRITERIA_CLF[self.criterion](\n",
      "KeyError: 'log_loss'\n",
      "\n",
      "  warnings.warn(some_fits_failed_message, FitFailedWarning)\n",
      "C:\\Users\\umar1\\anaconda3\\lib\\site-packages\\sklearn\\model_selection\\_search.py:969: UserWarning: One or more of the test scores are non-finite: [0.89308969 0.8959461         nan]\n",
      "  warnings.warn(\n",
      "C:\\Users\\umar1\\anaconda3\\lib\\site-packages\\sklearn\\model_selection\\_split.py:676: UserWarning: The least populated class in y has only 3 members, which is less than n_splits=10.\n",
      "  warnings.warn(\n"
     ]
    }
   ],
   "source": [
    "from sklearn.model_selection import GridSearchCV\n",
    "from sklearn.model_selection import ShuffleSplit\n",
    "scores=[]\n",
    "kfold = StratifiedKFold(n_splits=10, shuffle=True, random_state=7)\n",
    "for model_name,mp in model_params.items():\n",
    "    clf=GridSearchCV(estimator=mp['model'],param_grid=mp['params'],cv=kfold,return_train_score=False)\n",
    "    clf.fit(x2_df,y1_df)\n",
    "    scores.append({\n",
    "        'model':model_name,\n",
    "        'best_score':clf.best_score_,\n",
    "        'best_params':clf.best_params_\n",
    "        \n",
    "    })\n",
    "    "
   ]
  },
  {
   "cell_type": "code",
   "execution_count": 219,
   "id": "dad3635c",
   "metadata": {},
   "outputs": [
    {
     "data": {
      "text/plain": [
       "[{'model': 'random forest',\n",
       "  'best_score': 0.9236949127477079,\n",
       "  'best_params': {'criterion': 'entropy', 'n_estimators': 40}},\n",
       " {'model': 'KNeighborsClassifier',\n",
       "  'best_score': 0.8563638716356108,\n",
       "  'best_params': {'n_neighbors': 5}},\n",
       " {'model': 'AdaBoostClassifier',\n",
       "  'best_score': 0.8365075051759835,\n",
       "  'best_params': {}},\n",
       " {'model': 'DecisionTreeClassifier',\n",
       "  'best_score': 0.8959460958296361,\n",
       "  'best_params': {'criterion': 'entropy'}},\n",
       " {'model': 'XG_boost',\n",
       "  'best_score': 0.9389287562851228,\n",
       "  'best_params': {'learning_rate': 0.1, 'n_estimators': 150}}]"
      ]
     },
     "execution_count": 219,
     "metadata": {},
     "output_type": "execute_result"
    }
   ],
   "source": [
    "scores"
   ]
  },
  {
   "cell_type": "markdown",
   "id": "921285d6",
   "metadata": {},
   "source": [
    "[{'model': 'random forest',\n",
    "  'best_score': 0.9224489795918368,\n",
    "  'best_params': {'criterion': 'entropy', 'n_estimators': 30}},"
   ]
  },
  {
   "cell_type": "code",
   "execution_count": 209,
   "id": "70716034",
   "metadata": {},
   "outputs": [],
   "source": [
    "#from sklearn.ensemble import RandomForestClassifier\n",
    "#rf_model=RandomForestClassifier(criterion='entropy',n_estimators=30)\n",
    "rf_model2=xgb.XGBClassifier()"
   ]
  },
  {
   "cell_type": "code",
   "execution_count": 210,
   "id": "0ccaa6d3",
   "metadata": {},
   "outputs": [
    {
     "data": {
      "text/plain": [
       "XGBClassifier(base_score=None, booster=None, callbacks=None,\n",
       "              colsample_bylevel=None, colsample_bynode=None,\n",
       "              colsample_bytree=None, early_stopping_rounds=None,\n",
       "              enable_categorical=False, eval_metric=None, feature_types=None,\n",
       "              gamma=None, gpu_id=None, grow_policy=None, importance_type=None,\n",
       "              interaction_constraints=None, learning_rate=None, max_bin=None,\n",
       "              max_cat_threshold=None, max_cat_to_onehot=None,\n",
       "              max_delta_step=None, max_depth=None, max_leaves=None,\n",
       "              min_child_weight=None, missing=nan, monotone_constraints=None,\n",
       "              n_estimators=100, n_jobs=None, num_parallel_tree=None,\n",
       "              objective='multi:softprob', predictor=None, ...)"
      ]
     },
     "execution_count": 210,
     "metadata": {},
     "output_type": "execute_result"
    }
   ],
   "source": [
    "\n",
    "rf_model2.fit(X1_train,Y1_train)"
   ]
  },
  {
   "cell_type": "code",
   "execution_count": 211,
   "id": "64ddad79",
   "metadata": {},
   "outputs": [
    {
     "data": {
      "text/plain": [
       "0.9112546752805168"
      ]
     },
     "execution_count": 211,
     "metadata": {},
     "output_type": "execute_result"
    }
   ],
   "source": [
    "\n",
    "rf_model2.score(X1_test,Y1_test)"
   ]
  },
  {
   "cell_type": "code",
   "execution_count": 212,
   "id": "c5fbbb87",
   "metadata": {},
   "outputs": [],
   "source": [
    "Y1_pred=rf_model.predict(X1_test)"
   ]
  },
  {
   "cell_type": "code",
   "execution_count": 213,
   "id": "1b96281c",
   "metadata": {},
   "outputs": [],
   "source": [
    "from sklearn.metrics import confusion_matrix,accuracy_score\n",
    "cm=confusion_matrix(Y1_test,Y1_pred)\n",
    "acc=accuracy_score(Y1_test,Y1_pred)\n"
   ]
  },
  {
   "cell_type": "code",
   "execution_count": 214,
   "id": "469912bc",
   "metadata": {},
   "outputs": [
    {
     "data": {
      "text/plain": [
       "array([[  16,    1,    0,    0,   33,    2,    0,    0],\n",
       "       [   0,    0,    0,    0,   11,    0,    0,    0],\n",
       "       [   0,    0,    0,    0,    2,    0,    0,    0],\n",
       "       [   0,    0,    0,    0,    6,    1,    0,    0],\n",
       "       [   1,    5,    0,    0, 4037,   95,    0,   39],\n",
       "       [   0,    1,    0,    0,  185, 1170,    0,   22],\n",
       "       [   0,    0,    0,    0,    7,    1,    0,    1],\n",
       "       [   0,    0,    0,    0,  104,   40,    0,  102]], dtype=int64)"
      ]
     },
     "execution_count": 214,
     "metadata": {},
     "output_type": "execute_result"
    }
   ],
   "source": [
    "cm"
   ]
  },
  {
   "cell_type": "code",
   "execution_count": 130,
   "id": "fe38f083",
   "metadata": {},
   "outputs": [
    {
     "data": {
      "text/plain": [
       "0.916695001700102"
      ]
     },
     "execution_count": 130,
     "metadata": {},
     "output_type": "execute_result"
    }
   ],
   "source": [
    "acc"
   ]
  },
  {
   "cell_type": "code",
   "execution_count": 131,
   "id": "1f725580",
   "metadata": {},
   "outputs": [
    {
     "data": {
      "text/plain": [
       "<AxesSubplot:>"
      ]
     },
     "execution_count": 131,
     "metadata": {},
     "output_type": "execute_result"
    },
    {
     "data": {
      "image/png": "[encoded data removed]",
      "text/plain": [
       "<Figure size 864x720 with 2 Axes>"
      ]
     },
     "metadata": {
      "needs_background": "light"
     },
     "output_type": "display_data"
    }
   ],
   "source": [
    "plt.figure(figsize=(12,10))\n",
    "\n",
    "sbn.heatmap(cm,annot=True)"
   ]
  },
  {
   "cell_type": "code",
   "execution_count": 132,
   "id": "ea5bfd99",
   "metadata": {},
   "outputs": [
    {
     "data": {
      "text/plain": [
       "array(['HANDLING OF MATERIALS', 'SLIP OR FALL OF PERSON', 'HAULAGE',\n",
       "       'FIRE/EXPLOSION', 'EXPLOSIVES AND BREAKING AGENTS', 'ELECTRICAL',\n",
       "       'EXPLODING VESSELS UNDER PRESSURE', 'OTHER'], dtype=object)"
      ]
     },
     "execution_count": 132,
     "metadata": {},
     "output_type": "execute_result"
    }
   ],
   "source": [
    "new_df4['CLASSIFICATION'].unique()"
   ]
  },
  {
   "cell_type": "code",
   "execution_count": 133,
   "id": "2845f970",
   "metadata": {},
   "outputs": [
    {
     "data": {
      "text/plain": [
       "HANDLING OF MATERIALS               4229\n",
       "HAULAGE                             1315\n",
       "SLIP OR FALL OF PERSON               252\n",
       "ELECTRICAL                            53\n",
       "EXPLODING VESSELS UNDER PRESSURE      13\n",
       "OTHER                                  9\n",
       "FIRE/EXPLOSION                         8\n",
       "EXPLOSIVES AND BREAKING AGENTS         3\n",
       "Name: CLASSIFICATION, dtype: int64"
      ]
     },
     "execution_count": 133,
     "metadata": {},
     "output_type": "execute_result"
    }
   ],
   "source": [
    "\n",
    "Y1_test.value_counts()"
   ]
  },
  {
   "cell_type": "code",
   "execution_count": 154,
   "id": "49411e24",
   "metadata": {},
   "outputs": [],
   "source": [
    "from sklearn.preprocessing import LabelEncoder\n",
    "Le=LabelEncoder()\n",
    "new_df4['Y_new']=Le.fit_transform(new_df4['CLASSIFICATION'])"
   ]
  },
  {
   "cell_type": "code",
   "execution_count": 158,
   "id": "5bdeeda2",
   "metadata": {},
   "outputs": [],
   "source": [
    "Y_new=new_df4['Y_new'].unique()"
   ]
  },
  {
   "cell_type": "code",
   "execution_count": 147,
   "id": "444a624d",
   "metadata": {},
   "outputs": [],
   "source": [
    "x2_df['INJ_BODY_PART_CD']=x2_df['INJ_BODY_PART_CD'].astype(int)"
   ]
  },
  {
   "cell_type": "code",
   "execution_count": 153,
   "id": "e9c84226",
   "metadata": {},
   "outputs": [
    {
     "data": {
      "text/plain": [
       "array([4, 4, 4, ..., 6, 6, 6])"
      ]
     },
     "execution_count": 153,
     "metadata": {},
     "output_type": "execute_result"
    }
   ],
   "source": [
    "Y_new"
   ]
  },
  {
   "cell_type": "code",
   "execution_count": 159,
   "id": "353bbd47",
   "metadata": {},
   "outputs": [],
   "source": [
    "X1_train,X1_test,Y1_train,Y1_test=train_test_split(x2_df,new_df4['Y_new'],test_size=0.8)"
   ]
  },
  {
   "cell_type": "code",
   "execution_count": 160,
   "id": "a4f81b02",
   "metadata": {},
   "outputs": [],
   "source": [
    "new_model=xgb.XGBClassifier()"
   ]
  },
  {
   "cell_type": "code",
   "execution_count": 161,
   "id": "3b470002",
   "metadata": {},
   "outputs": [
    {
     "ename": "ValueError",
     "evalue": "Invalid classes inferred from unique values of `y`.  Expected: [0 1 2 3 4 5 6], got [0 1 3 4 5 6 7]",
     "output_type": "error",
     "traceback": [
      "\u001b[1;31m---------------------------------------------------------------------------\u001b[0m",
      "\u001b[1;31mValueError\u001b[0m                                Traceback (most recent call last)",
      "Input \u001b[1;32mIn [161]\u001b[0m, in \u001b[0;36m<cell line: 1>\u001b[1;34m()\u001b[0m\n\u001b[1;32m----> 1\u001b[0m \u001b[43mnew_model\u001b[49m\u001b[38;5;241;43m.\u001b[39;49m\u001b[43mfit\u001b[49m\u001b[43m(\u001b[49m\u001b[43mX1_train\u001b[49m\u001b[43m,\u001b[49m\u001b[43mY1_train\u001b[49m\u001b[43m)\u001b[49m\n",
      "File \u001b[1;32m~\\anaconda3\\lib\\site-packages\\xgboost\\core.py:620\u001b[0m, in \u001b[0;36mrequire_keyword_args.<locals>.throw_if.<locals>.inner_f\u001b[1;34m(*args, **kwargs)\u001b[0m\n\u001b[0;32m    618\u001b[0m \u001b[38;5;28;01mfor\u001b[39;00m k, arg \u001b[38;5;129;01min\u001b[39;00m \u001b[38;5;28mzip\u001b[39m(sig\u001b[38;5;241m.\u001b[39mparameters, args):\n\u001b[0;32m    619\u001b[0m     kwargs[k] \u001b[38;5;241m=\u001b[39m arg\n\u001b[1;32m--> 620\u001b[0m \u001b[38;5;28;01mreturn\u001b[39;00m func(\u001b[38;5;241m*\u001b[39m\u001b[38;5;241m*\u001b[39mkwargs)\n",
      "File \u001b[1;32m~\\anaconda3\\lib\\site-packages\\xgboost\\sklearn.py:1440\u001b[0m, in \u001b[0;36mXGBClassifier.fit\u001b[1;34m(self, X, y, sample_weight, base_margin, eval_set, eval_metric, early_stopping_rounds, verbose, xgb_model, sample_weight_eval_set, base_margin_eval_set, feature_weights, callbacks)\u001b[0m\n\u001b[0;32m   1435\u001b[0m     expected_classes \u001b[38;5;241m=\u001b[39m np\u001b[38;5;241m.\u001b[39marange(\u001b[38;5;28mself\u001b[39m\u001b[38;5;241m.\u001b[39mn_classes_)\n\u001b[0;32m   1436\u001b[0m \u001b[38;5;28;01mif\u001b[39;00m (\n\u001b[0;32m   1437\u001b[0m     \u001b[38;5;28mself\u001b[39m\u001b[38;5;241m.\u001b[39mclasses_\u001b[38;5;241m.\u001b[39mshape \u001b[38;5;241m!=\u001b[39m expected_classes\u001b[38;5;241m.\u001b[39mshape\n\u001b[0;32m   1438\u001b[0m     \u001b[38;5;129;01mor\u001b[39;00m \u001b[38;5;129;01mnot\u001b[39;00m (\u001b[38;5;28mself\u001b[39m\u001b[38;5;241m.\u001b[39mclasses_ \u001b[38;5;241m==\u001b[39m expected_classes)\u001b[38;5;241m.\u001b[39mall()\n\u001b[0;32m   1439\u001b[0m ):\n\u001b[1;32m-> 1440\u001b[0m     \u001b[38;5;28;01mraise\u001b[39;00m \u001b[38;5;167;01mValueError\u001b[39;00m(\n\u001b[0;32m   1441\u001b[0m         \u001b[38;5;124mf\u001b[39m\u001b[38;5;124m\"\u001b[39m\u001b[38;5;124mInvalid classes inferred from unique values of `y`.  \u001b[39m\u001b[38;5;124m\"\u001b[39m\n\u001b[0;32m   1442\u001b[0m         \u001b[38;5;124mf\u001b[39m\u001b[38;5;124m\"\u001b[39m\u001b[38;5;124mExpected: \u001b[39m\u001b[38;5;132;01m{\u001b[39;00mexpected_classes\u001b[38;5;132;01m}\u001b[39;00m\u001b[38;5;124m, got \u001b[39m\u001b[38;5;132;01m{\u001b[39;00m\u001b[38;5;28mself\u001b[39m\u001b[38;5;241m.\u001b[39mclasses_\u001b[38;5;132;01m}\u001b[39;00m\u001b[38;5;124m\"\u001b[39m\n\u001b[0;32m   1443\u001b[0m     )\n\u001b[0;32m   1445\u001b[0m params \u001b[38;5;241m=\u001b[39m \u001b[38;5;28mself\u001b[39m\u001b[38;5;241m.\u001b[39mget_xgb_params()\n\u001b[0;32m   1447\u001b[0m \u001b[38;5;28;01mif\u001b[39;00m callable(\u001b[38;5;28mself\u001b[39m\u001b[38;5;241m.\u001b[39mobjective):\n",
      "\u001b[1;31mValueError\u001b[0m: Invalid classes inferred from unique values of `y`.  Expected: [0 1 2 3 4 5 6], got [0 1 3 4 5 6 7]"
     ]
    }
   ],
   "source": [
    "new_model.fit(X1_train,Y1_train)"
   ]
  },
  {
   "cell_type": "code",
   "execution_count": null,
   "id": "5452881a",
   "metadata": {},
   "outputs": [],
   "source": []
  }
 ],
 "metadata": {
  "kernelspec": {
   "display_name": "Python 3 (ipykernel)",
   "language": "python",
   "name": "python3"
  },
  "language_info": {
   "codemirror_mode": {
    "name": "ipython",
    "version": 3
   },
   "file_extension": ".py",
   "mimetype": "text/x-python",
   "name": "python",
   "nbconvert_exporter": "python",
   "pygments_lexer": "ipython3",
   "version": "3.9.12"
  }
 },
 "nbformat": 4,
 "nbformat_minor": 5
}
